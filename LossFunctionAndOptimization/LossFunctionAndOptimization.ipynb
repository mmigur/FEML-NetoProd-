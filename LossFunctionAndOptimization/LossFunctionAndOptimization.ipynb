{
 "cells": [
  {
   "cell_type": "code",
   "execution_count": 6,
   "id": "094845e0",
   "metadata": {},
   "outputs": [],
   "source": [
    "import numpy as np\n",
    "import pandas as pd\n",
    "import matplotlib.pyplot as plt\n",
    "from sklearn.datasets import load_iris\n",
    "from sklearn.model_selection import train_test_split"
   ]
  },
  {
   "cell_type": "markdown",
   "id": "9fb403e0",
   "metadata": {},
   "source": [
    "## 1. Загрузка и обработка данных"
   ]
  },
  {
   "cell_type": "code",
   "execution_count": 7,
   "id": "358428f8",
   "metadata": {},
   "outputs": [],
   "source": [
    "data_of_iris = load_iris()\n",
    "iris_df = pd.DataFrame(data=data_of_iris.data, columns=data_of_iris.feature_names)\n",
    "iris_df['iris_class'] = data_of_iris.target"
   ]
  },
  {
   "cell_type": "code",
   "execution_count": 8,
   "id": "6f300023",
   "metadata": {},
   "outputs": [
    {
     "data": {
      "text/html": [
       "<div>\n",
       "<style scoped>\n",
       "    .dataframe tbody tr th:only-of-type {\n",
       "        vertical-align: middle;\n",
       "    }\n",
       "\n",
       "    .dataframe tbody tr th {\n",
       "        vertical-align: top;\n",
       "    }\n",
       "\n",
       "    .dataframe thead th {\n",
       "        text-align: right;\n",
       "    }\n",
       "</style>\n",
       "<table border=\"1\" class=\"dataframe\">\n",
       "  <thead>\n",
       "    <tr style=\"text-align: right;\">\n",
       "      <th></th>\n",
       "      <th>sepal length (cm)</th>\n",
       "      <th>sepal width (cm)</th>\n",
       "      <th>petal length (cm)</th>\n",
       "      <th>petal width (cm)</th>\n",
       "      <th>iris_class</th>\n",
       "    </tr>\n",
       "  </thead>\n",
       "  <tbody>\n",
       "    <tr>\n",
       "      <th>0</th>\n",
       "      <td>7.0</td>\n",
       "      <td>3.2</td>\n",
       "      <td>4.7</td>\n",
       "      <td>1.4</td>\n",
       "      <td>0</td>\n",
       "    </tr>\n",
       "    <tr>\n",
       "      <th>1</th>\n",
       "      <td>6.4</td>\n",
       "      <td>3.2</td>\n",
       "      <td>4.5</td>\n",
       "      <td>1.5</td>\n",
       "      <td>0</td>\n",
       "    </tr>\n",
       "    <tr>\n",
       "      <th>2</th>\n",
       "      <td>6.9</td>\n",
       "      <td>3.1</td>\n",
       "      <td>4.9</td>\n",
       "      <td>1.5</td>\n",
       "      <td>0</td>\n",
       "    </tr>\n",
       "    <tr>\n",
       "      <th>3</th>\n",
       "      <td>5.5</td>\n",
       "      <td>2.3</td>\n",
       "      <td>4.0</td>\n",
       "      <td>1.3</td>\n",
       "      <td>0</td>\n",
       "    </tr>\n",
       "    <tr>\n",
       "      <th>4</th>\n",
       "      <td>6.5</td>\n",
       "      <td>2.8</td>\n",
       "      <td>4.6</td>\n",
       "      <td>1.5</td>\n",
       "      <td>0</td>\n",
       "    </tr>\n",
       "  </tbody>\n",
       "</table>\n",
       "</div>"
      ],
      "text/plain": [
       "   sepal length (cm)  sepal width (cm)  petal length (cm)  petal width (cm)  \\\n",
       "0                7.0               3.2                4.7               1.4   \n",
       "1                6.4               3.2                4.5               1.5   \n",
       "2                6.9               3.1                4.9               1.5   \n",
       "3                5.5               2.3                4.0               1.3   \n",
       "4                6.5               2.8                4.6               1.5   \n",
       "\n",
       "   iris_class  \n",
       "0           0  \n",
       "1           0  \n",
       "2           0  \n",
       "3           0  \n",
       "4           0  "
      ]
     },
     "execution_count": 8,
     "metadata": {},
     "output_type": "execute_result"
    }
   ],
   "source": [
    "iris_df = iris_df[iris_df['iris_class'] != 0].reset_index().drop('index', axis=1)\n",
    "iris_df['iris_class'] = np.where(iris_df['iris_class'] == 1, 0, 1)\n",
    "iris_df.head()"
   ]
  },
  {
   "cell_type": "markdown",
   "id": "d8921dca",
   "metadata": {},
   "source": [
    "## 2. Разделение данных на X и y"
   ]
  },
  {
   "cell_type": "code",
   "execution_count": 9,
   "id": "ea40bc97",
   "metadata": {},
   "outputs": [],
   "source": [
    "X = iris_df.drop('iris_class', axis=1)\n",
    "y = iris_df['iris_class']"
   ]
  },
  {
   "cell_type": "markdown",
   "id": "31e4285f",
   "metadata": {},
   "source": [
    "## 3. Реализация логистической регрессии"
   ]
  },
  {
   "cell_type": "code",
   "execution_count": 10,
   "id": "2491f677",
   "metadata": {},
   "outputs": [],
   "source": [
    "def log_reg_model(X, weight):\n",
    "    def sigmoid(x):\n",
    "        return 1 / (1 + np.exp(-x))\n",
    "    \n",
    "    X = np.array(X)\n",
    "    predict_array = [sigmoid(X[i] @ weight) for i in range(len(X))]\n",
    "    return np.array(predict_array)\n",
    "\n",
    "def cross_entropy(y_true, y_pred):\n",
    "    logloss_1 = np.sum(np.log(y_pred[y_true == 1] + 1e-30))\n",
    "    logloss_0 = np.sum(np.log(1 - y_pred[y_true == 0] + 1e-30))\n",
    "    logloss_total = -(logloss_0 + logloss_1) / len(y_true)\n",
    "    return logloss_total\n",
    "\n",
    "def gradient_fit(X, y):\n",
    "    def gradient(X, weight, y_true):\n",
    "        y_pred = log_reg_model(X, weight)\n",
    "        gradient = np.matmul(X.T, y_pred - np.array(y_true))\n",
    "        return np.array(gradient)\n",
    "\n",
    "    np.random.seed(42)\n",
    "    EPSILON = 0.001 # значение для выхода\n",
    "    EPOCHS = 200 # кол-во итераций\n",
    "    LEARNING_RATE = 0.0001 # шаг градиента\n",
    "\n",
    "    WEIGHT = np.random.randn(X.shape[1]) # случайная начальная точка\n",
    "\n",
    "    next_weight = WEIGHT\n",
    "\n",
    "    for i in range(EPOCHS):\n",
    "        current_weight = next_weight\n",
    "\n",
    "        # движение в негативную сторону вычисляемого градиента\n",
    "        next_weight = current_weight - LEARNING_RATE * gradient(X, next_weight, y)\n",
    "    \n",
    "        if np.linalg.norm(current_weight - next_weight) <= EPSILON:\n",
    "            break\n",
    "\n",
    "        if i % 20 == 0:\n",
    "            print(f\"Итерация: {i}\")\n",
    "            print(f'Текущие веса модели: {current_weight}')\n",
    "            y_pred = log_reg_model(X, next_weight)\n",
    "            y_pred_class = np.where(y_pred >= 0.5, 1, 0)\n",
    "            accuracy = (y_pred_class == y).sum() / len(y)\n",
    "            print(f\"Logloss {cross_entropy(y, y_pred)}\")\n",
    "            print(f\"Accuracy {accuracy}\")\n",
    "            print(\"--------------------------------------------------------\")\n",
    "\n",
    "def accuracy(y_true, y_pred):\n",
    "    return np.mean(y_true == y_pred)"
   ]
  },
  {
   "cell_type": "markdown",
   "id": "9dd95e9c",
   "metadata": {},
   "source": [
    "## 4. Метод градиентного спуска"
   ]
  },
  {
   "cell_type": "code",
   "execution_count": 14,
   "id": "d1eb6e96",
   "metadata": {},
   "outputs": [
    {
     "name": "stdout",
     "output_type": "stream",
     "text": [
      "Итерация: 0\n",
      "Текущие веса модели: [ 0.49671415 -0.1382643   0.64768854  1.52302986]\n",
      "Logloss 3.515850082146899\n",
      "Accuracy 0.5\n",
      "--------------------------------------------------------\n",
      "Итерация: 20\n",
      "Текущие веса модели: [-0.06731073 -0.40157152  0.24356275  1.39744487]\n",
      "Logloss 0.7692549552528724\n",
      "Accuracy 0.5\n",
      "--------------------------------------------------------\n",
      "Итерация: 40\n",
      "Текущие веса модели: [-0.23058979 -0.4805085   0.14531428  1.37266362]\n",
      "Logloss 0.5062335061605593\n",
      "Accuracy 0.92\n",
      "--------------------------------------------------------\n",
      "Итерация: 60\n",
      "Текущие веса модели: [-0.24819605 -0.49268611  0.16028301  1.3859071 ]\n",
      "Logloss 0.5019104768292688\n",
      "Accuracy 0.92\n",
      "--------------------------------------------------------\n",
      "Итерация: 80\n",
      "Текущие веса модели: [-0.26162612 -0.50292385  0.17825885  1.40010337]\n",
      "Logloss 0.4978659633967662\n",
      "Accuracy 0.92\n",
      "--------------------------------------------------------\n",
      "Итерация: 100\n",
      "Текущие веса модели: [-0.27483934 -0.51303245  0.19613199  1.41419518]\n",
      "Logloss 0.4938965642566015\n",
      "Accuracy 0.92\n",
      "--------------------------------------------------------\n",
      "Итерация: 120\n",
      "Текущие веса модели: [-0.28792292 -0.52305216  0.2138378   1.4281616 ]\n",
      "Logloss 0.49000040654144117\n",
      "Accuracy 0.93\n",
      "--------------------------------------------------------\n",
      "Итерация: 140\n",
      "Текущие веса модели: [-0.3008806  -0.53298508  0.23137723  1.44200401]\n",
      "Logloss 0.4861757556180349\n",
      "Accuracy 0.93\n",
      "--------------------------------------------------------\n",
      "Итерация: 160\n",
      "Текущие веса модели: [-0.3137143  -0.54283245  0.24875264  1.45572426]\n",
      "Logloss 0.4824209204970873\n",
      "Accuracy 0.93\n",
      "--------------------------------------------------------\n",
      "Итерация: 180\n",
      "Текущие веса модели: [-0.32642587 -0.5525955   0.26596637  1.46932417]\n",
      "Logloss 0.4787342529310048\n",
      "Accuracy 0.93\n",
      "--------------------------------------------------------\n"
     ]
    }
   ],
   "source": [
    "gradient_fit(X, y)"
   ]
  },
  {
   "cell_type": "markdown",
   "id": "578241cf",
   "metadata": {},
   "source": [
    "> Как мы видим модель обучилась довольно хорошо, мы нашли оптимальные веса."
   ]
  }
 ],
 "metadata": {
  "kernelspec": {
   "display_name": "Python 3 (ipykernel)",
   "language": "python",
   "name": "python3"
  },
  "language_info": {
   "codemirror_mode": {
    "name": "ipython",
    "version": 3
   },
   "file_extension": ".py",
   "mimetype": "text/x-python",
   "name": "python",
   "nbconvert_exporter": "python",
   "pygments_lexer": "ipython3",
   "version": "3.10.5"
  }
 },
 "nbformat": 4,
 "nbformat_minor": 5
}
