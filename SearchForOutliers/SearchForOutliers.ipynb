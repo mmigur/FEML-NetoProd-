{
 "cells": [
  {
   "cell_type": "code",
   "execution_count": 125,
   "id": "8de3caed",
   "metadata": {},
   "outputs": [],
   "source": [
    "import numpy as np\n",
    "import pandas as pd\n",
    "import seaborn as sns\n",
    "import matplotlib.pyplot as plt\n",
    "from sklearn.model_selection import train_test_split\n",
    "from sklearn.ensemble import RandomForestClassifier\n",
    "from sklearn.metrics import accuracy_score"
   ]
  },
  {
   "cell_type": "markdown",
   "id": "9104abcd",
   "metadata": {},
   "source": [
    "## 1. Загрузка данных"
   ]
  },
  {
   "cell_type": "code",
   "execution_count": 126,
   "id": "3590ac6a",
   "metadata": {},
   "outputs": [
    {
     "data": {
      "text/html": [
       "<div>\n",
       "<style scoped>\n",
       "    .dataframe tbody tr th:only-of-type {\n",
       "        vertical-align: middle;\n",
       "    }\n",
       "\n",
       "    .dataframe tbody tr th {\n",
       "        vertical-align: top;\n",
       "    }\n",
       "\n",
       "    .dataframe thead th {\n",
       "        text-align: right;\n",
       "    }\n",
       "</style>\n",
       "<table border=\"1\" class=\"dataframe\">\n",
       "  <thead>\n",
       "    <tr style=\"text-align: right;\">\n",
       "      <th></th>\n",
       "      <th>RI</th>\n",
       "      <th>Na</th>\n",
       "      <th>Mg</th>\n",
       "      <th>Al</th>\n",
       "      <th>Si</th>\n",
       "      <th>K</th>\n",
       "      <th>Ca</th>\n",
       "      <th>Ba</th>\n",
       "      <th>Fe</th>\n",
       "      <th>Type</th>\n",
       "    </tr>\n",
       "  </thead>\n",
       "  <tbody>\n",
       "    <tr>\n",
       "      <th>0</th>\n",
       "      <td>1.52101</td>\n",
       "      <td>13.64</td>\n",
       "      <td>4.49</td>\n",
       "      <td>1.10</td>\n",
       "      <td>71.78</td>\n",
       "      <td>0.06</td>\n",
       "      <td>8.75</td>\n",
       "      <td>0.0</td>\n",
       "      <td>0.0</td>\n",
       "      <td>1</td>\n",
       "    </tr>\n",
       "    <tr>\n",
       "      <th>1</th>\n",
       "      <td>1.51761</td>\n",
       "      <td>13.89</td>\n",
       "      <td>3.60</td>\n",
       "      <td>1.36</td>\n",
       "      <td>72.73</td>\n",
       "      <td>0.48</td>\n",
       "      <td>7.83</td>\n",
       "      <td>0.0</td>\n",
       "      <td>0.0</td>\n",
       "      <td>1</td>\n",
       "    </tr>\n",
       "    <tr>\n",
       "      <th>2</th>\n",
       "      <td>1.51618</td>\n",
       "      <td>13.53</td>\n",
       "      <td>3.55</td>\n",
       "      <td>1.54</td>\n",
       "      <td>72.99</td>\n",
       "      <td>0.39</td>\n",
       "      <td>7.78</td>\n",
       "      <td>0.0</td>\n",
       "      <td>0.0</td>\n",
       "      <td>1</td>\n",
       "    </tr>\n",
       "    <tr>\n",
       "      <th>3</th>\n",
       "      <td>1.51766</td>\n",
       "      <td>13.21</td>\n",
       "      <td>3.69</td>\n",
       "      <td>1.29</td>\n",
       "      <td>72.61</td>\n",
       "      <td>0.57</td>\n",
       "      <td>8.22</td>\n",
       "      <td>0.0</td>\n",
       "      <td>0.0</td>\n",
       "      <td>1</td>\n",
       "    </tr>\n",
       "    <tr>\n",
       "      <th>4</th>\n",
       "      <td>1.51742</td>\n",
       "      <td>13.27</td>\n",
       "      <td>3.62</td>\n",
       "      <td>1.24</td>\n",
       "      <td>73.08</td>\n",
       "      <td>0.55</td>\n",
       "      <td>8.07</td>\n",
       "      <td>0.0</td>\n",
       "      <td>0.0</td>\n",
       "      <td>1</td>\n",
       "    </tr>\n",
       "  </tbody>\n",
       "</table>\n",
       "</div>"
      ],
      "text/plain": [
       "        RI     Na    Mg    Al     Si     K    Ca   Ba   Fe  Type\n",
       "0  1.52101  13.64  4.49  1.10  71.78  0.06  8.75  0.0  0.0     1\n",
       "1  1.51761  13.89  3.60  1.36  72.73  0.48  7.83  0.0  0.0     1\n",
       "2  1.51618  13.53  3.55  1.54  72.99  0.39  7.78  0.0  0.0     1\n",
       "3  1.51766  13.21  3.69  1.29  72.61  0.57  8.22  0.0  0.0     1\n",
       "4  1.51742  13.27  3.62  1.24  73.08  0.55  8.07  0.0  0.0     1"
      ]
     },
     "execution_count": 126,
     "metadata": {},
     "output_type": "execute_result"
    }
   ],
   "source": [
    "glass_df = pd.read_csv('./Data/glass.csv')\n",
    "glass_df.head()"
   ]
  },
  {
   "cell_type": "markdown",
   "id": "ad48c5c1",
   "metadata": {},
   "source": [
    "### 1.2 Проверка на дисбаланс классов"
   ]
  },
  {
   "cell_type": "code",
   "execution_count": 127,
   "id": "bc4859ec",
   "metadata": {},
   "outputs": [
    {
     "data": {
      "text/plain": [
       "2    76\n",
       "1    70\n",
       "7    29\n",
       "3    17\n",
       "5    13\n",
       "6     9\n",
       "Name: Type, dtype: int64"
      ]
     },
     "execution_count": 127,
     "metadata": {},
     "output_type": "execute_result"
    }
   ],
   "source": [
    "glass_df['Type'].value_counts()"
   ]
  },
  {
   "cell_type": "markdown",
   "id": "ca09bc5e",
   "metadata": {},
   "source": [
    "> В классах присутствует дисбаланс"
   ]
  },
  {
   "cell_type": "markdown",
   "id": "95b1120d",
   "metadata": {},
   "source": [
    "## 2. Раздление данных на train и test"
   ]
  },
  {
   "cell_type": "code",
   "execution_count": 128,
   "id": "c77766f1",
   "metadata": {},
   "outputs": [],
   "source": [
    "X = glass_df.drop('Type', axis=1)\n",
    "y = glass_df['Type']\n",
    "\n",
    "X_train, X_test, y_train, y_test = train_test_split(X, y, test_size=0.20, random_state=42)"
   ]
  },
  {
   "cell_type": "markdown",
   "id": "c45dbf41",
   "metadata": {},
   "source": [
    "## 3. Построение и обучение модели случайного леса"
   ]
  },
  {
   "cell_type": "code",
   "execution_count": 129,
   "id": "bac02b42",
   "metadata": {},
   "outputs": [],
   "source": [
    "random_forest_clf = RandomForestClassifier().fit(X_train, y_train)"
   ]
  },
  {
   "cell_type": "markdown",
   "id": "741daf90",
   "metadata": {},
   "source": [
    "## 4. Оценка качества модели"
   ]
  },
  {
   "cell_type": "code",
   "execution_count": 130,
   "id": "cc546ff2",
   "metadata": {},
   "outputs": [],
   "source": [
    "y_true_test = y_test\n",
    "y_pred_test = random_forest_clf.predict(X_test)\n",
    "\n",
    "accuracy_score_model_with_outliers = accuracy_score(y_pred_test, y_true_test)"
   ]
  },
  {
   "cell_type": "markdown",
   "id": "b3b0ae64",
   "metadata": {},
   "source": [
    "## 5. Обработка выбросов"
   ]
  },
  {
   "cell_type": "markdown",
   "id": "54efb6da",
   "metadata": {},
   "source": [
    "### 5.1 Визуализация распределений"
   ]
  },
  {
   "cell_type": "code",
   "execution_count": 131,
   "id": "46279de7",
   "metadata": {},
   "outputs": [
    {
     "data": {
      "image/png": "[encoded data removed]",
      "text/plain": [
       "<Figure size 432x288 with 1 Axes>"
      ]
     },
     "metadata": {
      "needs_background": "light"
     },
     "output_type": "display_data"
    },
    {
     "data": {
      "image/png": "[encoded data removed]",
      "text/plain": [
       "<Figure size 432x288 with 1 Axes>"
      ]
     },
     "metadata": {
      "needs_background": "light"
     },
     "output_type": "display_data"
    },
    {
     "data": {
      "image/png": "[encoded data removed]",
      "text/plain": [
       "<Figure size 432x288 with 1 Axes>"
      ]
     },
     "metadata": {
      "needs_background": "light"
     },
     "output_type": "display_data"
    },
    {
     "data": {
      "image/png": "[encoded data removed]",
      "text/plain": [
       "<Figure size 432x288 with 1 Axes>"
      ]
     },
     "metadata": {
      "needs_background": "light"
     },
     "output_type": "display_data"
    },
    {
     "data": {
      "image/png": "[encoded data removed]",
      "text/plain": [
       "<Figure size 432x288 with 1 Axes>"
      ]
     },
     "metadata": {
      "needs_background": "light"
     },
     "output_type": "display_data"
    },
    {
     "data": {
      "image/png": "[encoded data removed]",
      "text/plain": [
       "<Figure size 432x288 with 1 Axes>"
      ]
     },
     "metadata": {
      "needs_background": "light"
     },
     "output_type": "display_data"
    },
    {
     "data": {
      "image/png": "[encoded data removed]",
      "text/plain": [
       "<Figure size 432x288 with 1 Axes>"
      ]
     },
     "metadata": {
      "needs_background": "light"
     },
     "output_type": "display_data"
    },
    {
     "data": {
      "image/png": "[encoded data removed]",
      "text/plain": [
       "<Figure size 432x288 with 1 Axes>"
      ]
     },
     "metadata": {
      "needs_background": "light"
     },
     "output_type": "display_data"
    },
    {
     "data": {
      "image/png": "[encoded data removed]",
      "text/plain": [
       "<Figure size 432x288 with 1 Axes>"
      ]
     },
     "metadata": {
      "needs_background": "light"
     },
     "output_type": "display_data"
    },
    {
     "data": {
      "image/png": "[encoded data removed]",
      "text/plain": [
       "<Figure size 432x288 with 1 Axes>"
      ]
     },
     "metadata": {
      "needs_background": "light"
     },
     "output_type": "display_data"
    }
   ],
   "source": [
    "for feature in glass_df.columns:\n",
    "    sns.histplot(glass_df[feature])\n",
    "    plt.title(f'Распределение переменной - {feature}')\n",
    "    plt.show()"
   ]
  },
  {
   "cell_type": "markdown",
   "id": "da76d80c",
   "metadata": {},
   "source": [
    "> Признак с нормальным распределением тут только - Si"
   ]
  },
  {
   "cell_type": "markdown",
   "id": "56b78d86",
   "metadata": {},
   "source": [
    "### 5.2 Исследование на выбросы + удаление"
   ]
  },
  {
   "cell_type": "code",
   "execution_count": 132,
   "id": "566a09b3",
   "metadata": {},
   "outputs": [],
   "source": [
    "df_without_outliers = pd.DataFrame()\n",
    "\n",
    "for feature in glass_df.columns[:-1]:\n",
    "    Q1, Q3 = np.quantile(glass_df[feature], [0.25, 0.75])\n",
    "    IQR = Q3 - Q1\n",
    "    \n",
    "    upper_bound = Q1 - 1.5 * IQR\n",
    "    lower_bound = Q3 + 1.5 * IQR\n",
    "    \n",
    "    df_without_outliers = pd.concat([\n",
    "        df_without_outliers,\n",
    "        glass_df[~((glass_df[feature] <= Q1) | (glass_df[feature] >= Q3))]\n",
    "    ])\n",
    "    \n",
    "    df_without_outliers.reset_index(drop=True)\n",
    "    df_without_outliers.drop_duplicates(inplace=True)"
   ]
  },
  {
   "cell_type": "markdown",
   "id": "49ea8a81",
   "metadata": {},
   "source": [
    "### 5.3 Процент удаленных записей от общего числа записей для каждого класса."
   ]
  },
  {
   "cell_type": "code",
   "execution_count": 133,
   "id": "bef14cbb",
   "metadata": {},
   "outputs": [
    {
     "name": "stdout",
     "output_type": "stream",
     "text": [
      "Класс - 2, процент потерь от общего число = 0.05\n",
      "Класс - 1, процент потерь от общего число = 0.06\n",
      "Класс - 7, процент потерь от общего число = 0.0\n",
      "Класс - 3, процент потерь от общего число = 0.12\n",
      "Класс - 5, процент потерь от общего число = 0.08\n",
      "Класс - 6, процент потерь от общего число = 0.22\n"
     ]
    }
   ],
   "source": [
    "class_names = glass_df['Type'].value_counts().index\n",
    "glass_df_value_count, df_without_outliers_value_counts = np.array(glass_df['Type'].value_counts()), \\\n",
    "                                                         np.array(df_without_outliers['Type'].value_counts())\n",
    "\n",
    "for i in range(len(glass_df_value_count)):\n",
    "    total_number_of_class_rows = glass_df_value_count[i]\n",
    "    number_of_class_rows_without_outliers = df_without_outliers_value_counts[i]\n",
    "    \n",
    "    lost_values = total_number_of_class_rows - number_of_class_rows_without_outliers\n",
    "    print(f'Класс - {class_names[i]}, процент потерь от общего число = {np.round(lost_values / total_number_of_class_rows, 2)}')"
   ]
  },
  {
   "cell_type": "markdown",
   "id": "c1269ad4",
   "metadata": {},
   "source": [
    "## 6. Обучение модели на данных без выбросов"
   ]
  },
  {
   "cell_type": "markdown",
   "id": "9013d5da",
   "metadata": {},
   "source": [
    "### 6.1 Разделение данных на train и test"
   ]
  },
  {
   "cell_type": "code",
   "execution_count": 134,
   "id": "d97e58d8",
   "metadata": {},
   "outputs": [],
   "source": [
    "X = df_without_outliers.drop('Type', axis=1)\n",
    "y = df_without_outliers['Type']\n",
    "\n",
    "X_train, X_test, y_train, y_test = train_test_split(X, y, test_size=0.20, random_state=42)"
   ]
  },
  {
   "cell_type": "markdown",
   "id": "e3d91af6",
   "metadata": {},
   "source": [
    "### 6.2 Обучение и оценка результатов"
   ]
  },
  {
   "cell_type": "code",
   "execution_count": 135,
   "id": "b87e2b17",
   "metadata": {},
   "outputs": [],
   "source": [
    "random_forest_clf = RandomForestClassifier().fit(X_train, y_train)"
   ]
  },
  {
   "cell_type": "code",
   "execution_count": 136,
   "id": "44168e90",
   "metadata": {},
   "outputs": [],
   "source": [
    "y_true_test = y_test\n",
    "y_pred_test = random_forest_clf.predict(X_test)\n",
    "\n",
    "accuracy_score_without_outliers = accuracy_score(y_pred_test, y_true_test)"
   ]
  },
  {
   "cell_type": "markdown",
   "id": "c9350544",
   "metadata": {},
   "source": [
    "## Выводы"
   ]
  },
  {
   "cell_type": "code",
   "execution_count": 137,
   "id": "1dbffd1b",
   "metadata": {},
   "outputs": [
    {
     "name": "stdout",
     "output_type": "stream",
     "text": [
      "Метрика модели с данными содержащие выбросы = 0.813953488372093\n",
      "Метрика модели с данными без выбросов = 0.7560975609756098\n"
     ]
    }
   ],
   "source": [
    "print(f'Метрика модели с данными содержащие выбросы = {accuracy_score_model_with_outliers}')\n",
    "print(f'Метрика модели с данными без выбросов = {accuracy_score_without_outliers}')"
   ]
  },
  {
   "cell_type": "markdown",
   "id": "692b6ce0",
   "metadata": {},
   "source": [
    "1. К данным я применил метод поиска выбросов через межквартильный размах\n",
    "2. Как мы видим по результатам модель без выбросов справилась лучше, чем модель которая обучалась на данных без выбросов\n",
    "3. Выбросы в данных нужно удалять, чтобы моделям было проще обучаться(она быстрее находит закономерности)"
   ]
  },
  {
   "cell_type": "code",
   "execution_count": null,
   "id": "f91a2ba7",
   "metadata": {},
   "outputs": [],
   "source": []
  }
 ],
 "metadata": {
  "kernelspec": {
   "display_name": "Python 3 (ipykernel)",
   "language": "python",
   "name": "python3"
  },
  "language_info": {
   "codemirror_mode": {
    "name": "ipython",
    "version": 3
   },
   "file_extension": ".py",
   "mimetype": "text/x-python",
   "name": "python",
   "nbconvert_exporter": "python",
   "pygments_lexer": "ipython3",
   "version": "3.10.5"
  }
 },
 "nbformat": 4,
 "nbformat_minor": 5
}
