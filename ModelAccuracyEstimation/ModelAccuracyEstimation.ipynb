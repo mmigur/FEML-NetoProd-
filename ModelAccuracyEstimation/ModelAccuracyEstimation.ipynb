{
 "cells": [
  {
   "cell_type": "code",
   "execution_count": 481,
   "id": "bcea7901",
   "metadata": {},
   "outputs": [],
   "source": [
    "import numpy as np\n",
    "import pandas as pd\n",
    "import matplotlib.pyplot as plt\n",
    "from sklearn.linear_model import LogisticRegression\n",
    "from sklearn.preprocessing import LabelEncoder\n",
    "from sklearn.model_selection import train_test_split\n",
    "from sklearn.metrics import roc_curve\n",
    "from sklearn.metrics import roc_auc_score"
   ]
  },
  {
   "cell_type": "markdown",
   "id": "64a6aa01",
   "metadata": {},
   "source": [
    "## 1. Загрузка данных"
   ]
  },
  {
   "cell_type": "code",
   "execution_count": 482,
   "id": "5fa6a5d8",
   "metadata": {},
   "outputs": [
    {
     "data": {
      "text/html": [
       "<div>\n",
       "<style scoped>\n",
       "    .dataframe tbody tr th:only-of-type {\n",
       "        vertical-align: middle;\n",
       "    }\n",
       "\n",
       "    .dataframe tbody tr th {\n",
       "        vertical-align: top;\n",
       "    }\n",
       "\n",
       "    .dataframe thead th {\n",
       "        text-align: right;\n",
       "    }\n",
       "</style>\n",
       "<table border=\"1\" class=\"dataframe\">\n",
       "  <thead>\n",
       "    <tr style=\"text-align: right;\">\n",
       "      <th></th>\n",
       "      <th>id</th>\n",
       "      <th>name</th>\n",
       "      <th>nationality</th>\n",
       "      <th>sex</th>\n",
       "      <th>dob</th>\n",
       "      <th>height</th>\n",
       "      <th>weight</th>\n",
       "      <th>sport</th>\n",
       "      <th>gold</th>\n",
       "      <th>silver</th>\n",
       "      <th>bronze</th>\n",
       "    </tr>\n",
       "  </thead>\n",
       "  <tbody>\n",
       "    <tr>\n",
       "      <th>0</th>\n",
       "      <td>736041664</td>\n",
       "      <td>A Jesus Garcia</td>\n",
       "      <td>ESP</td>\n",
       "      <td>male</td>\n",
       "      <td>10/17/69</td>\n",
       "      <td>1.72</td>\n",
       "      <td>64.0</td>\n",
       "      <td>athletics</td>\n",
       "      <td>0</td>\n",
       "      <td>0</td>\n",
       "      <td>0</td>\n",
       "    </tr>\n",
       "    <tr>\n",
       "      <th>1</th>\n",
       "      <td>532037425</td>\n",
       "      <td>A Lam Shin</td>\n",
       "      <td>KOR</td>\n",
       "      <td>female</td>\n",
       "      <td>9/23/86</td>\n",
       "      <td>1.68</td>\n",
       "      <td>56.0</td>\n",
       "      <td>fencing</td>\n",
       "      <td>0</td>\n",
       "      <td>0</td>\n",
       "      <td>0</td>\n",
       "    </tr>\n",
       "    <tr>\n",
       "      <th>2</th>\n",
       "      <td>435962603</td>\n",
       "      <td>Aaron Brown</td>\n",
       "      <td>CAN</td>\n",
       "      <td>male</td>\n",
       "      <td>5/27/92</td>\n",
       "      <td>1.98</td>\n",
       "      <td>79.0</td>\n",
       "      <td>athletics</td>\n",
       "      <td>0</td>\n",
       "      <td>0</td>\n",
       "      <td>1</td>\n",
       "    </tr>\n",
       "    <tr>\n",
       "      <th>3</th>\n",
       "      <td>521041435</td>\n",
       "      <td>Aaron Cook</td>\n",
       "      <td>MDA</td>\n",
       "      <td>male</td>\n",
       "      <td>1/2/91</td>\n",
       "      <td>1.83</td>\n",
       "      <td>80.0</td>\n",
       "      <td>taekwondo</td>\n",
       "      <td>0</td>\n",
       "      <td>0</td>\n",
       "      <td>0</td>\n",
       "    </tr>\n",
       "    <tr>\n",
       "      <th>4</th>\n",
       "      <td>33922579</td>\n",
       "      <td>Aaron Gate</td>\n",
       "      <td>NZL</td>\n",
       "      <td>male</td>\n",
       "      <td>11/26/90</td>\n",
       "      <td>1.81</td>\n",
       "      <td>71.0</td>\n",
       "      <td>cycling</td>\n",
       "      <td>0</td>\n",
       "      <td>0</td>\n",
       "      <td>0</td>\n",
       "    </tr>\n",
       "  </tbody>\n",
       "</table>\n",
       "</div>"
      ],
      "text/plain": [
       "          id            name nationality     sex       dob  height  weight  \\\n",
       "0  736041664  A Jesus Garcia         ESP    male  10/17/69    1.72    64.0   \n",
       "1  532037425      A Lam Shin         KOR  female   9/23/86    1.68    56.0   \n",
       "2  435962603     Aaron Brown         CAN    male   5/27/92    1.98    79.0   \n",
       "3  521041435      Aaron Cook         MDA    male    1/2/91    1.83    80.0   \n",
       "4   33922579      Aaron Gate         NZL    male  11/26/90    1.81    71.0   \n",
       "\n",
       "       sport  gold  silver  bronze  \n",
       "0  athletics     0       0       0  \n",
       "1    fencing     0       0       0  \n",
       "2  athletics     0       0       1  \n",
       "3  taekwondo     0       0       0  \n",
       "4    cycling     0       0       0  "
      ]
     },
     "execution_count": 482,
     "metadata": {},
     "output_type": "execute_result"
    }
   ],
   "source": [
    "athletes_df = pd.read_csv('./Data/athletes.csv')\n",
    "athletes_df.head()"
   ]
  },
  {
   "cell_type": "code",
   "execution_count": 483,
   "id": "752af31e",
   "metadata": {},
   "outputs": [
    {
     "name": "stdout",
     "output_type": "stream",
     "text": [
      "<class 'pandas.core.frame.DataFrame'>\n",
      "RangeIndex: 11538 entries, 0 to 11537\n",
      "Data columns (total 11 columns):\n",
      " #   Column       Non-Null Count  Dtype  \n",
      "---  ------       --------------  -----  \n",
      " 0   id           11538 non-null  int64  \n",
      " 1   name         11538 non-null  object \n",
      " 2   nationality  11538 non-null  object \n",
      " 3   sex          11538 non-null  object \n",
      " 4   dob          11537 non-null  object \n",
      " 5   height       11208 non-null  float64\n",
      " 6   weight       10879 non-null  float64\n",
      " 7   sport        11538 non-null  object \n",
      " 8   gold         11538 non-null  int64  \n",
      " 9   silver       11538 non-null  int64  \n",
      " 10  bronze       11538 non-null  int64  \n",
      "dtypes: float64(2), int64(4), object(5)\n",
      "memory usage: 991.7+ KB\n"
     ]
    }
   ],
   "source": [
    "athletes_df.info()"
   ]
  },
  {
   "cell_type": "markdown",
   "id": "6fbd333e",
   "metadata": {},
   "source": [
    "> Мы видим пропуски в данных, у нас есть 1 пропуск по фиче dob, его можно просто удалить, height и weight можно заполнить средним значением"
   ]
  },
  {
   "cell_type": "markdown",
   "id": "a9768246",
   "metadata": {},
   "source": [
    "## 2. Обработка пропусков"
   ]
  },
  {
   "cell_type": "markdown",
   "id": "67112776",
   "metadata": {},
   "source": [
    "### 2.1 Заполнение средним значением"
   ]
  },
  {
   "cell_type": "code",
   "execution_count": 484,
   "id": "589645c6",
   "metadata": {},
   "outputs": [],
   "source": [
    "athletes_df['height'] = athletes_df['height'].fillna(athletes_df['height'].mean())\n",
    "athletes_df['weight'] = athletes_df['weight'].fillna(athletes_df['weight'].mean())"
   ]
  },
  {
   "cell_type": "markdown",
   "id": "bd4da6d3",
   "metadata": {},
   "source": [
    "### 2.2 Удаление пропусков"
   ]
  },
  {
   "cell_type": "code",
   "execution_count": 485,
   "id": "39ddb3c1",
   "metadata": {},
   "outputs": [],
   "source": [
    "athletes_df.dropna(inplace=True)"
   ]
  },
  {
   "cell_type": "markdown",
   "id": "bd67840c",
   "metadata": {},
   "source": [
    "> Получился набор данных без пропусков:"
   ]
  },
  {
   "cell_type": "code",
   "execution_count": 486,
   "id": "79ea1ac2",
   "metadata": {},
   "outputs": [
    {
     "name": "stdout",
     "output_type": "stream",
     "text": [
      "<class 'pandas.core.frame.DataFrame'>\n",
      "Int64Index: 11537 entries, 0 to 11537\n",
      "Data columns (total 11 columns):\n",
      " #   Column       Non-Null Count  Dtype  \n",
      "---  ------       --------------  -----  \n",
      " 0   id           11537 non-null  int64  \n",
      " 1   name         11537 non-null  object \n",
      " 2   nationality  11537 non-null  object \n",
      " 3   sex          11537 non-null  object \n",
      " 4   dob          11537 non-null  object \n",
      " 5   height       11537 non-null  float64\n",
      " 6   weight       11537 non-null  float64\n",
      " 7   sport        11537 non-null  object \n",
      " 8   gold         11537 non-null  int64  \n",
      " 9   silver       11537 non-null  int64  \n",
      " 10  bronze       11537 non-null  int64  \n",
      "dtypes: float64(2), int64(4), object(5)\n",
      "memory usage: 1.1+ MB\n"
     ]
    }
   ],
   "source": [
    "athletes_df.info()"
   ]
  },
  {
   "cell_type": "markdown",
   "id": "72d460e0",
   "metadata": {},
   "source": [
    "## 3. Кодировка категориальных переменных"
   ]
  },
  {
   "cell_type": "markdown",
   "id": "c42c33ee",
   "metadata": {},
   "source": [
    "В моей случае я буду предсказывать пол спортсмена(возьмем его как целевую переменную)"
   ]
  },
  {
   "cell_type": "code",
   "execution_count": 487,
   "id": "53dee63a",
   "metadata": {},
   "outputs": [],
   "source": [
    "label_encoder = LabelEncoder()"
   ]
  },
  {
   "cell_type": "code",
   "execution_count": 488,
   "id": "8e998c7a",
   "metadata": {},
   "outputs": [],
   "source": [
    "athletes_df['sex_encoded'] = label_encoder.fit(athletes_df['sex']).transform(athletes_df['sex'])\n",
    "athletes_df['sport_encoded'] = label_encoder.fit((athletes_df['sport'])).transform(athletes_df['sport'])\n",
    "athletes_df['nationality_encoded'] = label_encoder.fit(athletes_df['nationality']).transform(athletes_df['nationality'])"
   ]
  },
  {
   "cell_type": "markdown",
   "id": "a45210e6",
   "metadata": {},
   "source": [
    "## 4. Разделение данных на train и test"
   ]
  },
  {
   "cell_type": "code",
   "execution_count": 489,
   "id": "b52ac5e3",
   "metadata": {},
   "outputs": [],
   "source": [
    "X = athletes_df.drop([\n",
    "    'sex', \n",
    "    'sex_encoded', \n",
    "    'name', \n",
    "    'id',\n",
    "    'sport',\n",
    "    'nationality',\n",
    "    'dob'\n",
    "], axis=1)\n",
    "\n",
    "y = athletes_df['sex_encoded']"
   ]
  },
  {
   "cell_type": "code",
   "execution_count": 490,
   "id": "3da43a74",
   "metadata": {},
   "outputs": [],
   "source": [
    "X_train, X_test, y_train, y_test = train_test_split(X, y, test_size=0.33, random_state=42)"
   ]
  },
  {
   "cell_type": "markdown",
   "id": "3715e14d",
   "metadata": {},
   "source": [
    "## 5. Обучение модели логистической регрессии "
   ]
  },
  {
   "cell_type": "code",
   "execution_count": 491,
   "id": "5069862c",
   "metadata": {},
   "outputs": [
    {
     "data": {
      "text/html": [
       "<style>#sk-container-id-4 {color: black;background-color: white;}#sk-container-id-4 pre{padding: 0;}#sk-container-id-4 div.sk-toggleable {background-color: white;}#sk-container-id-4 label.sk-toggleable__label {cursor: pointer;display: block;width: 100%;margin-bottom: 0;padding: 0.3em;box-sizing: border-box;text-align: center;}#sk-container-id-4 label.sk-toggleable__label-arrow:before {content: \"▸\";float: left;margin-right: 0.25em;color: #696969;}#sk-container-id-4 label.sk-toggleable__label-arrow:hover:before {color: black;}#sk-container-id-4 div.sk-estimator:hover label.sk-toggleable__label-arrow:before {color: black;}#sk-container-id-4 div.sk-toggleable__content {max-height: 0;max-width: 0;overflow: hidden;text-align: left;background-color: #f0f8ff;}#sk-container-id-4 div.sk-toggleable__content pre {margin: 0.2em;color: black;border-radius: 0.25em;background-color: #f0f8ff;}#sk-container-id-4 input.sk-toggleable__control:checked~div.sk-toggleable__content {max-height: 200px;max-width: 100%;overflow: auto;}#sk-container-id-4 input.sk-toggleable__control:checked~label.sk-toggleable__label-arrow:before {content: \"▾\";}#sk-container-id-4 div.sk-estimator input.sk-toggleable__control:checked~label.sk-toggleable__label {background-color: #d4ebff;}#sk-container-id-4 div.sk-label input.sk-toggleable__control:checked~label.sk-toggleable__label {background-color: #d4ebff;}#sk-container-id-4 input.sk-hidden--visually {border: 0;clip: rect(1px 1px 1px 1px);clip: rect(1px, 1px, 1px, 1px);height: 1px;margin: -1px;overflow: hidden;padding: 0;position: absolute;width: 1px;}#sk-container-id-4 div.sk-estimator {font-family: monospace;background-color: #f0f8ff;border: 1px dotted black;border-radius: 0.25em;box-sizing: border-box;margin-bottom: 0.5em;}#sk-container-id-4 div.sk-estimator:hover {background-color: #d4ebff;}#sk-container-id-4 div.sk-parallel-item::after {content: \"\";width: 100%;border-bottom: 1px solid gray;flex-grow: 1;}#sk-container-id-4 div.sk-label:hover label.sk-toggleable__label {background-color: #d4ebff;}#sk-container-id-4 div.sk-serial::before {content: \"\";position: absolute;border-left: 1px solid gray;box-sizing: border-box;top: 0;bottom: 0;left: 50%;z-index: 0;}#sk-container-id-4 div.sk-serial {display: flex;flex-direction: column;align-items: center;background-color: white;padding-right: 0.2em;padding-left: 0.2em;position: relative;}#sk-container-id-4 div.sk-item {position: relative;z-index: 1;}#sk-container-id-4 div.sk-parallel {display: flex;align-items: stretch;justify-content: center;background-color: white;position: relative;}#sk-container-id-4 div.sk-item::before, #sk-container-id-4 div.sk-parallel-item::before {content: \"\";position: absolute;border-left: 1px solid gray;box-sizing: border-box;top: 0;bottom: 0;left: 50%;z-index: -1;}#sk-container-id-4 div.sk-parallel-item {display: flex;flex-direction: column;z-index: 1;position: relative;background-color: white;}#sk-container-id-4 div.sk-parallel-item:first-child::after {align-self: flex-end;width: 50%;}#sk-container-id-4 div.sk-parallel-item:last-child::after {align-self: flex-start;width: 50%;}#sk-container-id-4 div.sk-parallel-item:only-child::after {width: 0;}#sk-container-id-4 div.sk-dashed-wrapped {border: 1px dashed gray;margin: 0 0.4em 0.5em 0.4em;box-sizing: border-box;padding-bottom: 0.4em;background-color: white;}#sk-container-id-4 div.sk-label label {font-family: monospace;font-weight: bold;display: inline-block;line-height: 1.2em;}#sk-container-id-4 div.sk-label-container {text-align: center;}#sk-container-id-4 div.sk-container {/* jupyter's `normalize.less` sets `[hidden] { display: none; }` but bootstrap.min.css set `[hidden] { display: none !important; }` so we also need the `!important` here to be able to override the default hidden behavior on the sphinx rendered scikit-learn.org. See: https://github.com/scikit-learn/scikit-learn/issues/21755 */display: inline-block !important;position: relative;}#sk-container-id-4 div.sk-text-repr-fallback {display: none;}</style><div id=\"sk-container-id-4\" class=\"sk-top-container\"><div class=\"sk-text-repr-fallback\"><pre>LogisticRegression(max_iter=1000)</pre><b>In a Jupyter environment, please rerun this cell to show the HTML representation or trust the notebook. <br />On GitHub, the HTML representation is unable to render, please try loading this page with nbviewer.org.</b></div><div class=\"sk-container\" hidden><div class=\"sk-item\"><div class=\"sk-estimator sk-toggleable\"><input class=\"sk-toggleable__control sk-hidden--visually\" id=\"sk-estimator-id-4\" type=\"checkbox\" checked><label for=\"sk-estimator-id-4\" class=\"sk-toggleable__label sk-toggleable__label-arrow\">LogisticRegression</label><div class=\"sk-toggleable__content\"><pre>LogisticRegression(max_iter=1000)</pre></div></div></div></div></div>"
      ],
      "text/plain": [
       "LogisticRegression(max_iter=1000)"
      ]
     },
     "execution_count": 491,
     "metadata": {},
     "output_type": "execute_result"
    }
   ],
   "source": [
    "log_reg_model = LogisticRegression(max_iter=1000)\n",
    "log_reg_model.fit(X_train, y_train)"
   ]
  },
  {
   "cell_type": "markdown",
   "id": "5cf19735",
   "metadata": {},
   "source": [
    "## 6. Построение ROC-AUC кривой и вычисление метрики"
   ]
  },
  {
   "cell_type": "markdown",
   "id": "ec7b7a42",
   "metadata": {},
   "source": [
    "### 6.1 ROC-AUC кривая"
   ]
  },
  {
   "cell_type": "code",
   "execution_count": 492,
   "id": "a43046e5",
   "metadata": {},
   "outputs": [],
   "source": [
    "y_predict_proba = log_reg_model.predict_proba(X_test)\n",
    "y_true = y_test"
   ]
  },
  {
   "cell_type": "code",
   "execution_count": 493,
   "id": "b6da7973",
   "metadata": {},
   "outputs": [],
   "source": [
    "fpr, tpr, thresholds = roc_curve(y_true, y_predict_proba[:, 1])"
   ]
  },
  {
   "cell_type": "code",
   "execution_count": 494,
   "id": "c59af32e",
   "metadata": {},
   "outputs": [
    {
     "data": {
      "image/png": "[encoded data removed]",
      "text/plain": [
       "<Figure size 720x576 with 1 Axes>"
      ]
     },
     "metadata": {
      "needs_background": "light"
     },
     "output_type": "display_data"
    }
   ],
   "source": [
    "plt.figure(figsize=(10, 8))\n",
    "plt.plot(fpr, tpr)\n",
    "plt.plot([0, 1], [0, 1])\n",
    "plt.xlabel('False Positive Rate')\n",
    "plt.ylabel('True Positive Rate')\n",
    "plt.title('ROC curve')\n",
    "plt.show()"
   ]
  },
  {
   "cell_type": "markdown",
   "id": "b5f01e06",
   "metadata": {},
   "source": [
    "### 6.2 ROC-AUC метрика"
   ]
  },
  {
   "cell_type": "code",
   "execution_count": 495,
   "id": "f10e3d18",
   "metadata": {},
   "outputs": [
    {
     "data": {
      "text/plain": [
       "0.849818755692128"
      ]
     },
     "execution_count": 495,
     "metadata": {},
     "output_type": "execute_result"
    }
   ],
   "source": [
    "roc_auc_score(y_true, y_predict_proba[:, 1])"
   ]
  },
  {
   "cell_type": "markdown",
   "id": "6b3c7944",
   "metadata": {},
   "source": [
    "## 7. Реализация метрик TPR, FPR"
   ]
  },
  {
   "cell_type": "markdown",
   "id": "6f91e580",
   "metadata": {},
   "source": [
    "### 7.1 Реализация True Positive Rate\n",
    "$$TPR = TP/(TP+FN)$$ "
   ]
  },
  {
   "cell_type": "code",
   "execution_count": 496,
   "id": "38a314f8",
   "metadata": {},
   "outputs": [],
   "source": [
    "def true_positive_rate(y_true, y_predict_proba, thresholds):\n",
    "    try:\n",
    "        true_positive = 0\n",
    "        false_negative = 0\n",
    "        y_true = np.array(y_true)\n",
    "        y_predict_proba = np.array(y_predict_proba)[:, 1]\n",
    "    \n",
    "        for actual, predict in zip(y_true, y_predict_proba):\n",
    "            if predict >= thresholds:\n",
    "                predicted = 1\n",
    "            else:\n",
    "                predicted = 0\n",
    "            \n",
    "            if predicted == 1:\n",
    "                if actual == 1:\n",
    "                    true_positive += 1\n",
    "            else:\n",
    "                if actual == 1:\n",
    "                    false_negative += 1\n",
    "                \n",
    "        return true_positive / (true_positive + false_negative)\n",
    "    except:\n",
    "        return 0"
   ]
  },
  {
   "cell_type": "markdown",
   "id": "94e2fe10",
   "metadata": {},
   "source": [
    "### 7.2 Расчет метрики TPR"
   ]
  },
  {
   "cell_type": "code",
   "execution_count": 497,
   "id": "c1946b1a",
   "metadata": {},
   "outputs": [
    {
     "data": {
      "text/plain": [
       "0.9734939759036144"
      ]
     },
     "execution_count": 497,
     "metadata": {},
     "output_type": "execute_result"
    }
   ],
   "source": [
    "true_positive_rate(y_true, y_predict_proba,0.2)"
   ]
  },
  {
   "cell_type": "markdown",
   "id": "14806354",
   "metadata": {},
   "source": [
    "### 7.3 Реализация False Positive Rate"
   ]
  },
  {
   "cell_type": "markdown",
   "id": "735b3053",
   "metadata": {},
   "source": [
    "$$FPR = FP / (TN + FP)$$"
   ]
  },
  {
   "cell_type": "code",
   "execution_count": 498,
   "id": "e3acf890",
   "metadata": {},
   "outputs": [],
   "source": [
    "def false_positive_rate(y_true, y_predict_proba, thresholds):\n",
    "    try:\n",
    "        true_negative = 0\n",
    "        false_positive = 0\n",
    "    \n",
    "        y_true = np.array(y_true)\n",
    "        y_predict_proba = np.array(y_predict_proba)[:, 1]\n",
    "    \n",
    "        for actual, predict in zip(y_true, y_predict_proba):\n",
    "            predicted = 0\n",
    "            if predict >= thresholds:\n",
    "                predicted = 1\n",
    "            else:\n",
    "                predicted = 0\n",
    "        \n",
    "            if predicted == 1:\n",
    "                if actual == 0:\n",
    "                    false_positive += 1\n",
    "            else:\n",
    "                if actual == 0:\n",
    "                    true_negative += 1\n",
    "        return false_positive / (true_negative + false_positive)\n",
    "    except:\n",
    "        return 0"
   ]
  },
  {
   "cell_type": "markdown",
   "id": "d2975dbd",
   "metadata": {},
   "source": [
    "### 7.4 Расчет метрики FPR"
   ]
  },
  {
   "cell_type": "code",
   "execution_count": 499,
   "id": "f436cea8",
   "metadata": {},
   "outputs": [
    {
     "data": {
      "text/plain": [
       "0.2590882862088863"
      ]
     },
     "execution_count": 499,
     "metadata": {},
     "output_type": "execute_result"
    }
   ],
   "source": [
    "false_positive_rate(y_true, y_predict_proba, 0.5)"
   ]
  },
  {
   "cell_type": "markdown",
   "id": "bb2192e0",
   "metadata": {},
   "source": [
    "## 8. Построение ROC-AUC кривой с помощью наших метрик"
   ]
  },
  {
   "cell_type": "code",
   "execution_count": 500,
   "id": "d95e5ef6",
   "metadata": {},
   "outputs": [],
   "source": [
    "def roc_auc_curve(y_true, y_predict_proba):\n",
    "    THRESHOLDS_SIZE = len(y_true)\n",
    "    \n",
    "    thresholds = np.linspace(0, 1, THRESHOLDS_SIZE, 0.001)\n",
    "    fpr = np.array([])\n",
    "    tpr = np.array([])\n",
    "    \n",
    "    for threshold in thresholds:\n",
    "        fpr = np.append(\n",
    "            fpr,\n",
    "            false_positive_rate(y_true, y_predict_proba, threshold)\n",
    "        )\n",
    "        \n",
    "        tpr = np.append(\n",
    "            tpr,\n",
    "            true_positive_rate(y_true, y_predict_proba, threshold)\n",
    "        )\n",
    "        \n",
    "    return fpr, tpr, thresholds"
   ]
  },
  {
   "cell_type": "code",
   "execution_count": 501,
   "id": "f98bfb1b",
   "metadata": {},
   "outputs": [],
   "source": [
    "fpr_custom, tpr_custom, thresholds = roc_auc_curve(y_true, y_predict_proba)\n",
    "fpr_sklearn, tpr_sklearn, thresholds = roc_curve(y_true, y_predict_proba[:, 1])"
   ]
  },
  {
   "cell_type": "markdown",
   "id": "cc2f37bf",
   "metadata": {},
   "source": [
    "### 8.1 Сравнение графиков"
   ]
  },
  {
   "cell_type": "code",
   "execution_count": 502,
   "id": "091a2788",
   "metadata": {},
   "outputs": [
    {
     "data": {
      "image/png": "[encoded data removed]",
      "text/plain": [
       "<Figure size 720x576 with 1 Axes>"
      ]
     },
     "metadata": {
      "needs_background": "light"
     },
     "output_type": "display_data"
    }
   ],
   "source": [
    "plt.figure(figsize=(10, 8))\n",
    "plt.plot(fpr_custom, tpr_custom, color='blue')\n",
    "plt.plot(fpr_sklearn, tpr_sklearn, color='red', alpha=0.5)\n",
    "plt.plot([0, 1], [0, 1], color='black')\n",
    "plt.xlabel('False Positive Rate')\n",
    "plt.ylabel('True Positive Rate')\n",
    "plt.title('ROC curve')\n",
    "plt.show()"
   ]
  },
  {
   "cell_type": "markdown",
   "id": "8d878a61",
   "metadata": {},
   "source": [
    "> Мы видим, то что графики совпадают => график построен правильно.\n",
    "\n",
    "> Модель показала хорошие результаты исходя из графика."
   ]
  },
  {
   "cell_type": "markdown",
   "id": "cc19fcba",
   "metadata": {},
   "source": [
    "## 9. Построение графика Precision-Recall"
   ]
  },
  {
   "cell_type": "code",
   "execution_count": 503,
   "id": "5a2d2a56",
   "metadata": {},
   "outputs": [],
   "source": [
    "def precision_recall_curve_show(y_true, y_predict_proba):\n",
    "    SAMPLE_SIZE = len(y_true)\n",
    "    \n",
    "    recall_thresholds = np.linspace(1, 0, SAMPLE_SIZE, 0.001)\n",
    "    precision_thresholds = np.linspace(0, 1, SAMPLE_SIZE, 0.001)\n",
    "    \n",
    "    y_true = np.array(y_true)\n",
    "    y_predict_proba = np.array(y_predict_proba)\n",
    "    \n",
    "    recall_values = []\n",
    "    precision_values = []\n",
    "    for recall_threshold, precision_threshold in zip(recall_thresholds, precision_thresholds):\n",
    "        recall_values.append(false_positive_rate(y_true, y_predict_proba, recall_threshold))\n",
    "        precision_values.append(true_positive_rate(y_true, y_predict_proba, precision_threshold))\n",
    "    \n",
    "    plt.figure(figsize=(10, 8))\n",
    "    plt.plot(recall_values, precision_values)\n",
    "    plt.title('Precision-Recall')\n",
    "    plt.xlabel('Recall')\n",
    "    plt.ylabel('Precision')\n",
    "    plt.show()"
   ]
  },
  {
   "cell_type": "code",
   "execution_count": 504,
   "id": "0da6f898",
   "metadata": {},
   "outputs": [
    {
     "data": {
      "image/png": "[encoded data removed]",
      "text/plain": [
       "<Figure size 720x576 with 1 Axes>"
      ]
     },
     "metadata": {
      "needs_background": "light"
     },
     "output_type": "display_data"
    }
   ],
   "source": [
    "precision_recall_curve_show(y_true, y_predict_proba)"
   ]
  },
  {
   "cell_type": "markdown",
   "id": "4be9c19d",
   "metadata": {},
   "source": [
    "## Выводы"
   ]
  },
  {
   "cell_type": "markdown",
   "id": "545fa107",
   "metadata": {},
   "source": [
    "> Из этого графика Precision-Recall мы можем сделать вывод о том, что чем выше Precision, тем ниже Recall"
   ]
  },
  {
   "cell_type": "markdown",
   "id": "f09aed3f",
   "metadata": {},
   "source": [
    "> Из полученных графиков можно сделать выводы, что чем ближе кривая к верхнему левому углу, тем выше предсказательная способность модели(ROC-AUC curve)"
   ]
  },
  {
   "cell_type": "markdown",
   "id": "12bfafd0",
   "metadata": {},
   "source": [
    "> По нашим показателям графика ROC-AUC модель справилась нормально."
   ]
  },
  {
   "cell_type": "code",
   "execution_count": null,
   "id": "73238f32",
   "metadata": {},
   "outputs": [],
   "source": []
  },
  {
   "cell_type": "code",
   "execution_count": null,
   "id": "24d60e63",
   "metadata": {},
   "outputs": [],
   "source": []
  }
 ],
 "metadata": {
  "kernelspec": {
   "display_name": "Python 3 (ipykernel)",
   "language": "python",
   "name": "python3"
  },
  "language_info": {
   "codemirror_mode": {
    "name": "ipython",
    "version": 3
   },
   "file_extension": ".py",
   "mimetype": "text/x-python",
   "name": "python",
   "nbconvert_exporter": "python",
   "pygments_lexer": "ipython3",
   "version": "3.10.5"
  }
 },
 "nbformat": 4,
 "nbformat_minor": 5
}
