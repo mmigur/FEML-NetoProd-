{
 "cells": [
  {
   "cell_type": "code",
   "execution_count": 68,
   "id": "1d217b19",
   "metadata": {},
   "outputs": [],
   "source": [
    "import numpy as np\n",
    "import pandas as pd\n",
    "\n",
    "import matplotlib.pyplot as plt\n",
    "import seaborn as sns\n",
    "\n",
    "from sklearn.model_selection import train_test_split\n",
    "from sklearn.preprocessing import LabelEncoder\n",
    "\n",
    "from sklearn.tree import DecisionTreeClassifier\n",
    "\n",
    "from sklearn.ensemble import RandomForestClassifier, BaggingClassifier, StackingClassifier\n",
    "\n",
    "from sklearn.svm import LinearSVC\n",
    "\n",
    "from sklearn.metrics import classification_report"
   ]
  },
  {
   "cell_type": "markdown",
   "id": "fe38ad4d",
   "metadata": {},
   "source": [
    "## 1. Загрузка данных"
   ]
  },
  {
   "cell_type": "code",
   "execution_count": 69,
   "id": "e6e5689c",
   "metadata": {},
   "outputs": [
    {
     "data": {
      "text/html": [
       "<div>\n",
       "<style scoped>\n",
       "    .dataframe tbody tr th:only-of-type {\n",
       "        vertical-align: middle;\n",
       "    }\n",
       "\n",
       "    .dataframe tbody tr th {\n",
       "        vertical-align: top;\n",
       "    }\n",
       "\n",
       "    .dataframe thead th {\n",
       "        text-align: right;\n",
       "    }\n",
       "</style>\n",
       "<table border=\"1\" class=\"dataframe\">\n",
       "  <thead>\n",
       "    <tr style=\"text-align: right;\">\n",
       "      <th></th>\n",
       "      <th>Age</th>\n",
       "      <th>Sex</th>\n",
       "      <th>ChestPainType</th>\n",
       "      <th>RestingBP</th>\n",
       "      <th>Cholesterol</th>\n",
       "      <th>FastingBS</th>\n",
       "      <th>RestingECG</th>\n",
       "      <th>MaxHR</th>\n",
       "      <th>ExerciseAngina</th>\n",
       "      <th>Oldpeak</th>\n",
       "      <th>ST_Slope</th>\n",
       "      <th>HeartDisease</th>\n",
       "    </tr>\n",
       "  </thead>\n",
       "  <tbody>\n",
       "    <tr>\n",
       "      <th>0</th>\n",
       "      <td>40</td>\n",
       "      <td>M</td>\n",
       "      <td>ATA</td>\n",
       "      <td>140</td>\n",
       "      <td>289</td>\n",
       "      <td>0</td>\n",
       "      <td>Normal</td>\n",
       "      <td>172</td>\n",
       "      <td>N</td>\n",
       "      <td>0.0</td>\n",
       "      <td>Up</td>\n",
       "      <td>0</td>\n",
       "    </tr>\n",
       "    <tr>\n",
       "      <th>1</th>\n",
       "      <td>49</td>\n",
       "      <td>F</td>\n",
       "      <td>NAP</td>\n",
       "      <td>160</td>\n",
       "      <td>180</td>\n",
       "      <td>0</td>\n",
       "      <td>Normal</td>\n",
       "      <td>156</td>\n",
       "      <td>N</td>\n",
       "      <td>1.0</td>\n",
       "      <td>Flat</td>\n",
       "      <td>1</td>\n",
       "    </tr>\n",
       "    <tr>\n",
       "      <th>2</th>\n",
       "      <td>37</td>\n",
       "      <td>M</td>\n",
       "      <td>ATA</td>\n",
       "      <td>130</td>\n",
       "      <td>283</td>\n",
       "      <td>0</td>\n",
       "      <td>ST</td>\n",
       "      <td>98</td>\n",
       "      <td>N</td>\n",
       "      <td>0.0</td>\n",
       "      <td>Up</td>\n",
       "      <td>0</td>\n",
       "    </tr>\n",
       "    <tr>\n",
       "      <th>3</th>\n",
       "      <td>48</td>\n",
       "      <td>F</td>\n",
       "      <td>ASY</td>\n",
       "      <td>138</td>\n",
       "      <td>214</td>\n",
       "      <td>0</td>\n",
       "      <td>Normal</td>\n",
       "      <td>108</td>\n",
       "      <td>Y</td>\n",
       "      <td>1.5</td>\n",
       "      <td>Flat</td>\n",
       "      <td>1</td>\n",
       "    </tr>\n",
       "    <tr>\n",
       "      <th>4</th>\n",
       "      <td>54</td>\n",
       "      <td>M</td>\n",
       "      <td>NAP</td>\n",
       "      <td>150</td>\n",
       "      <td>195</td>\n",
       "      <td>0</td>\n",
       "      <td>Normal</td>\n",
       "      <td>122</td>\n",
       "      <td>N</td>\n",
       "      <td>0.0</td>\n",
       "      <td>Up</td>\n",
       "      <td>0</td>\n",
       "    </tr>\n",
       "  </tbody>\n",
       "</table>\n",
       "</div>"
      ],
      "text/plain": [
       "   Age Sex ChestPainType  RestingBP  Cholesterol  FastingBS RestingECG  MaxHR  \\\n",
       "0   40   M           ATA        140          289          0     Normal    172   \n",
       "1   49   F           NAP        160          180          0     Normal    156   \n",
       "2   37   M           ATA        130          283          0         ST     98   \n",
       "3   48   F           ASY        138          214          0     Normal    108   \n",
       "4   54   M           NAP        150          195          0     Normal    122   \n",
       "\n",
       "  ExerciseAngina  Oldpeak ST_Slope  HeartDisease  \n",
       "0              N      0.0       Up             0  \n",
       "1              N      1.0     Flat             1  \n",
       "2              N      0.0       Up             0  \n",
       "3              Y      1.5     Flat             1  \n",
       "4              N      0.0       Up             0  "
      ]
     },
     "execution_count": 69,
     "metadata": {},
     "output_type": "execute_result"
    }
   ],
   "source": [
    "heart_df = pd.read_csv('./Data/heart.csv')\n",
    "heart_df.head()"
   ]
  },
  {
   "cell_type": "markdown",
   "id": "f788bd0b",
   "metadata": {},
   "source": [
    "## 2. Визуализация"
   ]
  },
  {
   "cell_type": "code",
   "execution_count": 70,
   "id": "0c16b720",
   "metadata": {},
   "outputs": [
    {
     "data": {
      "image/png": "[encoded data removed]",
      "text/plain": [
       "<Figure size 720x576 with 2 Axes>"
      ]
     },
     "metadata": {
      "needs_background": "light"
     },
     "output_type": "display_data"
    }
   ],
   "source": [
    "plt.figure(figsize=(10, 8))\n",
    "sns.heatmap(heart_df.corr(), cmap=\"YlGnBu\", annot=True)\n",
    "plt.title('Матрица корреляций для набора данных.')\n",
    "plt.show()"
   ]
  },
  {
   "cell_type": "code",
   "execution_count": 71,
   "id": "2ab28d6a",
   "metadata": {},
   "outputs": [
    {
     "data": {
      "image/png": "[encoded data removed]",
      "text/plain": [
       "<Figure size 720x576 with 1 Axes>"
      ]
     },
     "metadata": {
      "needs_background": "light"
     },
     "output_type": "display_data"
    }
   ],
   "source": [
    "groupby_age = heart_df.groupby('Sex').agg({'HeartDisease': 'count'}).reset_index()\n",
    "\n",
    "plt.figure(figsize=(10, 8))\n",
    "plt.barh(\n",
    "    groupby_age['Sex'],\n",
    "    groupby_age['HeartDisease'],\n",
    "    color='red', \n",
    "    alpha=0.5\n",
    ")\n",
    "\n",
    "plt.title('Кол-во случаев болезни сердца у мужчин и женщин')\n",
    "plt.xlabel('Кол-во случаев')\n",
    "plt.show()"
   ]
  },
  {
   "cell_type": "markdown",
   "id": "b9f71c46",
   "metadata": {},
   "source": [
    "## 3. Кодирование переменных"
   ]
  },
  {
   "cell_type": "code",
   "execution_count": 72,
   "id": "5c7d302c",
   "metadata": {},
   "outputs": [],
   "source": [
    "heart_df['Sex'] = LabelEncoder().fit_transform(heart_df['Sex'])"
   ]
  },
  {
   "cell_type": "code",
   "execution_count": 73,
   "id": "5baedf01",
   "metadata": {},
   "outputs": [],
   "source": [
    "heart_df = pd.concat([heart_df, pd.get_dummies(heart_df['ChestPainType'])], axis=1)\n",
    "heart_df.drop('ChestPainType', axis=1, inplace=True)"
   ]
  },
  {
   "cell_type": "code",
   "execution_count": 74,
   "id": "45da06ce",
   "metadata": {},
   "outputs": [],
   "source": [
    "heart_df = pd.concat([heart_df, pd.get_dummies(heart_df['RestingECG'])], axis=1)\n",
    "heart_df.drop('RestingECG', axis=1, inplace=True)"
   ]
  },
  {
   "cell_type": "code",
   "execution_count": 75,
   "id": "df34a6eb",
   "metadata": {},
   "outputs": [],
   "source": [
    "heart_df['ExerciseAngina'] = LabelEncoder().fit_transform(heart_df['ExerciseAngina'])"
   ]
  },
  {
   "cell_type": "code",
   "execution_count": 76,
   "id": "8736ce6b",
   "metadata": {},
   "outputs": [],
   "source": [
    "heart_df = pd.concat([heart_df, pd.get_dummies(heart_df['ST_Slope'])], axis=1)\n",
    "heart_df.drop('ST_Slope', axis=1, inplace=True)"
   ]
  },
  {
   "cell_type": "code",
   "execution_count": 77,
   "id": "4cc0285f",
   "metadata": {},
   "outputs": [
    {
     "data": {
      "text/html": [
       "<div>\n",
       "<style scoped>\n",
       "    .dataframe tbody tr th:only-of-type {\n",
       "        vertical-align: middle;\n",
       "    }\n",
       "\n",
       "    .dataframe tbody tr th {\n",
       "        vertical-align: top;\n",
       "    }\n",
       "\n",
       "    .dataframe thead th {\n",
       "        text-align: right;\n",
       "    }\n",
       "</style>\n",
       "<table border=\"1\" class=\"dataframe\">\n",
       "  <thead>\n",
       "    <tr style=\"text-align: right;\">\n",
       "      <th></th>\n",
       "      <th>Age</th>\n",
       "      <th>Sex</th>\n",
       "      <th>RestingBP</th>\n",
       "      <th>Cholesterol</th>\n",
       "      <th>FastingBS</th>\n",
       "      <th>MaxHR</th>\n",
       "      <th>ExerciseAngina</th>\n",
       "      <th>Oldpeak</th>\n",
       "      <th>HeartDisease</th>\n",
       "      <th>ASY</th>\n",
       "      <th>ATA</th>\n",
       "      <th>NAP</th>\n",
       "      <th>TA</th>\n",
       "      <th>LVH</th>\n",
       "      <th>Normal</th>\n",
       "      <th>ST</th>\n",
       "      <th>Down</th>\n",
       "      <th>Flat</th>\n",
       "      <th>Up</th>\n",
       "    </tr>\n",
       "  </thead>\n",
       "  <tbody>\n",
       "    <tr>\n",
       "      <th>0</th>\n",
       "      <td>40</td>\n",
       "      <td>1</td>\n",
       "      <td>140</td>\n",
       "      <td>289</td>\n",
       "      <td>0</td>\n",
       "      <td>172</td>\n",
       "      <td>0</td>\n",
       "      <td>0.0</td>\n",
       "      <td>0</td>\n",
       "      <td>0</td>\n",
       "      <td>1</td>\n",
       "      <td>0</td>\n",
       "      <td>0</td>\n",
       "      <td>0</td>\n",
       "      <td>1</td>\n",
       "      <td>0</td>\n",
       "      <td>0</td>\n",
       "      <td>0</td>\n",
       "      <td>1</td>\n",
       "    </tr>\n",
       "    <tr>\n",
       "      <th>1</th>\n",
       "      <td>49</td>\n",
       "      <td>0</td>\n",
       "      <td>160</td>\n",
       "      <td>180</td>\n",
       "      <td>0</td>\n",
       "      <td>156</td>\n",
       "      <td>0</td>\n",
       "      <td>1.0</td>\n",
       "      <td>1</td>\n",
       "      <td>0</td>\n",
       "      <td>0</td>\n",
       "      <td>1</td>\n",
       "      <td>0</td>\n",
       "      <td>0</td>\n",
       "      <td>1</td>\n",
       "      <td>0</td>\n",
       "      <td>0</td>\n",
       "      <td>1</td>\n",
       "      <td>0</td>\n",
       "    </tr>\n",
       "    <tr>\n",
       "      <th>2</th>\n",
       "      <td>37</td>\n",
       "      <td>1</td>\n",
       "      <td>130</td>\n",
       "      <td>283</td>\n",
       "      <td>0</td>\n",
       "      <td>98</td>\n",
       "      <td>0</td>\n",
       "      <td>0.0</td>\n",
       "      <td>0</td>\n",
       "      <td>0</td>\n",
       "      <td>1</td>\n",
       "      <td>0</td>\n",
       "      <td>0</td>\n",
       "      <td>0</td>\n",
       "      <td>0</td>\n",
       "      <td>1</td>\n",
       "      <td>0</td>\n",
       "      <td>0</td>\n",
       "      <td>1</td>\n",
       "    </tr>\n",
       "    <tr>\n",
       "      <th>3</th>\n",
       "      <td>48</td>\n",
       "      <td>0</td>\n",
       "      <td>138</td>\n",
       "      <td>214</td>\n",
       "      <td>0</td>\n",
       "      <td>108</td>\n",
       "      <td>1</td>\n",
       "      <td>1.5</td>\n",
       "      <td>1</td>\n",
       "      <td>1</td>\n",
       "      <td>0</td>\n",
       "      <td>0</td>\n",
       "      <td>0</td>\n",
       "      <td>0</td>\n",
       "      <td>1</td>\n",
       "      <td>0</td>\n",
       "      <td>0</td>\n",
       "      <td>1</td>\n",
       "      <td>0</td>\n",
       "    </tr>\n",
       "    <tr>\n",
       "      <th>4</th>\n",
       "      <td>54</td>\n",
       "      <td>1</td>\n",
       "      <td>150</td>\n",
       "      <td>195</td>\n",
       "      <td>0</td>\n",
       "      <td>122</td>\n",
       "      <td>0</td>\n",
       "      <td>0.0</td>\n",
       "      <td>0</td>\n",
       "      <td>0</td>\n",
       "      <td>0</td>\n",
       "      <td>1</td>\n",
       "      <td>0</td>\n",
       "      <td>0</td>\n",
       "      <td>1</td>\n",
       "      <td>0</td>\n",
       "      <td>0</td>\n",
       "      <td>0</td>\n",
       "      <td>1</td>\n",
       "    </tr>\n",
       "  </tbody>\n",
       "</table>\n",
       "</div>"
      ],
      "text/plain": [
       "   Age  Sex  RestingBP  Cholesterol  FastingBS  MaxHR  ExerciseAngina  \\\n",
       "0   40    1        140          289          0    172               0   \n",
       "1   49    0        160          180          0    156               0   \n",
       "2   37    1        130          283          0     98               0   \n",
       "3   48    0        138          214          0    108               1   \n",
       "4   54    1        150          195          0    122               0   \n",
       "\n",
       "   Oldpeak  HeartDisease  ASY  ATA  NAP  TA  LVH  Normal  ST  Down  Flat  Up  \n",
       "0      0.0             0    0    1    0   0    0       1   0     0     0   1  \n",
       "1      1.0             1    0    0    1   0    0       1   0     0     1   0  \n",
       "2      0.0             0    0    1    0   0    0       0   1     0     0   1  \n",
       "3      1.5             1    1    0    0   0    0       1   0     0     1   0  \n",
       "4      0.0             0    0    0    1   0    0       1   0     0     0   1  "
      ]
     },
     "execution_count": 77,
     "metadata": {},
     "output_type": "execute_result"
    }
   ],
   "source": [
    "heart_df.head()"
   ]
  },
  {
   "cell_type": "markdown",
   "id": "bb8328f8",
   "metadata": {},
   "source": [
    "## 4. Разделение выборки на train и test"
   ]
  },
  {
   "cell_type": "code",
   "execution_count": 78,
   "id": "d5c42c93",
   "metadata": {},
   "outputs": [],
   "source": [
    "X = heart_df.drop('HeartDisease', axis=1)\n",
    "y = heart_df['HeartDisease']\n",
    "\n",
    "X_train, X_test, y_train, y_test = train_test_split(X, y, test_size=0.20, random_state=42)"
   ]
  },
  {
   "cell_type": "markdown",
   "id": "323eb8ff",
   "metadata": {},
   "source": [
    "## 5. Обучение дерева решений и случайного леса"
   ]
  },
  {
   "cell_type": "code",
   "execution_count": 80,
   "id": "df2b1c48",
   "metadata": {},
   "outputs": [],
   "source": [
    "tree_decision = DecisionTreeClassifier().fit(X_train, y_train)\n",
    "random_forest_model = RandomForestClassifier().fit(X_train, y_train)\n",
    "\n",
    "y_pred_tree = tree_decision.predict(X_test)\n",
    "y_pred_random_forest = random_forest_model.predict(X_test)\n",
    "\n",
    "y_true = y_test"
   ]
  },
  {
   "cell_type": "markdown",
   "id": "253a1d46",
   "metadata": {},
   "source": [
    "### 5.1 Оценка модели дерева решений"
   ]
  },
  {
   "cell_type": "code",
   "execution_count": 135,
   "id": "9a6f96a0",
   "metadata": {},
   "outputs": [
    {
     "name": "stdout",
     "output_type": "stream",
     "text": [
      "              precision    recall  f1-score   support\n",
      "\n",
      "           0       0.73      0.84      0.78        77\n",
      "           1       0.87      0.78      0.82       107\n",
      "\n",
      "    accuracy                           0.80       184\n",
      "   macro avg       0.80      0.81      0.80       184\n",
      "weighted avg       0.81      0.80      0.81       184\n",
      "\n"
     ]
    }
   ],
   "source": [
    "clf_report_tree = classification_report(y_true, y_pred_tree)\n",
    "print(classification_report(y_true, y_pred_tree))"
   ]
  },
  {
   "cell_type": "markdown",
   "id": "e27cbafe",
   "metadata": {},
   "source": [
    "### 5.3 Оценка модели случайного леса"
   ]
  },
  {
   "cell_type": "code",
   "execution_count": 136,
   "id": "113216c9",
   "metadata": {},
   "outputs": [
    {
     "name": "stdout",
     "output_type": "stream",
     "text": [
      "              precision    recall  f1-score   support\n",
      "\n",
      "           0       0.84      0.86      0.85        77\n",
      "           1       0.90      0.88      0.89       107\n",
      "\n",
      "    accuracy                           0.87       184\n",
      "   macro avg       0.87      0.87      0.87       184\n",
      "weighted avg       0.87      0.87      0.87       184\n",
      "\n"
     ]
    }
   ],
   "source": [
    "clf_report_random_forest = classification_report(y_true, y_pred_random_forest)\n",
    "print(classification_report(y_true, y_pred_random_forest))"
   ]
  },
  {
   "cell_type": "markdown",
   "id": "01bcb4e2",
   "metadata": {},
   "source": [
    "## 6. Важность признаков модели случайный лес"
   ]
  },
  {
   "cell_type": "code",
   "execution_count": 111,
   "id": "70e34be4",
   "metadata": {},
   "outputs": [
    {
     "data": {
      "image/png": "[encoded data removed]",
      "text/plain": [
       "<Figure size 720x576 with 1 Axes>"
      ]
     },
     "metadata": {
      "needs_background": "light"
     },
     "output_type": "display_data"
    }
   ],
   "source": [
    "plt.figure(figsize=(10, 8))\n",
    "plt.barh(\n",
    "    X_train.columns,\n",
    "    np.sort(random_forest_model.feature_importances_),\n",
    "    alpha=0.5,\n",
    "    color='blue'\n",
    ")\n",
    "\n",
    "plt.title('Важность признаков модели случайный лес')\n",
    "plt.xlabel('Коэффициент важности')\n",
    "plt.legend(['Cлучайный лес'])\n",
    "plt.show()"
   ]
  },
  {
   "cell_type": "markdown",
   "id": "1bbf5b35",
   "metadata": {},
   "source": [
    "## 7. Бэггинг над деревьями"
   ]
  },
  {
   "cell_type": "code",
   "execution_count": 114,
   "id": "abdc7136",
   "metadata": {},
   "outputs": [],
   "source": [
    "bagging_on_tree = BaggingClassifier(DecisionTreeClassifier()).fit(X_train, y_train)"
   ]
  },
  {
   "cell_type": "code",
   "execution_count": 116,
   "id": "ab871b06",
   "metadata": {},
   "outputs": [],
   "source": [
    "y_pred_bagging = bagging_on_tree.predict(X_test)"
   ]
  },
  {
   "cell_type": "code",
   "execution_count": 137,
   "id": "330ca5bc",
   "metadata": {},
   "outputs": [
    {
     "name": "stdout",
     "output_type": "stream",
     "text": [
      "              precision    recall  f1-score   support\n",
      "\n",
      "           0       0.90      0.74      0.81        93\n",
      "           1       0.78      0.91      0.84        91\n",
      "\n",
      "    accuracy                           0.83       184\n",
      "   macro avg       0.84      0.83      0.83       184\n",
      "weighted avg       0.84      0.83      0.82       184\n",
      "\n"
     ]
    }
   ],
   "source": [
    "clf_report_bagging_on_tree = classification_report(y_pred_bagging, y_true)\n",
    "print(classification_report(y_pred_bagging, y_true))"
   ]
  },
  {
   "cell_type": "markdown",
   "id": "8fef90ea",
   "metadata": {},
   "source": [
    "## 8. Stacking-clf (Дерево решений, случайный лес, метод опорных векторов)"
   ]
  },
  {
   "cell_type": "code",
   "execution_count": 128,
   "id": "78e57932",
   "metadata": {},
   "outputs": [],
   "source": [
    "estimators = [\n",
    "    ('RandomForest', RandomForestClassifier()),\n",
    "    ('DecisionTree', DecisionTreeClassifier())\n",
    "]\n",
    "\n",
    "stack_clf = StackingClassifier(estimators, final_estimator=LinearSVC()).fit(X_train, y_train)"
   ]
  },
  {
   "cell_type": "code",
   "execution_count": 129,
   "id": "5019d4fa",
   "metadata": {},
   "outputs": [],
   "source": [
    "y_pred_stack = stack_clf.predict(X_test)"
   ]
  },
  {
   "cell_type": "code",
   "execution_count": 138,
   "id": "54a01382",
   "metadata": {},
   "outputs": [
    {
     "name": "stdout",
     "output_type": "stream",
     "text": [
      "              precision    recall  f1-score   support\n",
      "\n",
      "           0       0.88      0.85      0.87        80\n",
      "           1       0.89      0.91      0.90       104\n",
      "\n",
      "    accuracy                           0.89       184\n",
      "   macro avg       0.89      0.88      0.88       184\n",
      "weighted avg       0.89      0.89      0.89       184\n",
      "\n"
     ]
    }
   ],
   "source": [
    "clf_report_stack_model = classification_report(y_pred_stack, y_true)\n",
    "print(classification_report(y_pred_stack, y_true))"
   ]
  },
  {
   "cell_type": "markdown",
   "id": "9b232bb5",
   "metadata": {},
   "source": [
    "## Выводы"
   ]
  },
  {
   "cell_type": "markdown",
   "id": "6b9d073d",
   "metadata": {},
   "source": [
    "После полученных результатов можно сказать, что всего себя показала модель Stacking(у нее самая большая f1 score метрика)"
   ]
  },
  {
   "cell_type": "code",
   "execution_count": 151,
   "id": "b76bf7b1",
   "metadata": {},
   "outputs": [
    {
     "name": "stdout",
     "output_type": "stream",
     "text": [
      "Результаты модели дерева решений\n",
      "\n",
      "              precision    recall  f1-score   support\n",
      "\n",
      "           0       0.73      0.84      0.78        77\n",
      "           1       0.87      0.78      0.82       107\n",
      "\n",
      "    accuracy                           0.80       184\n",
      "   macro avg       0.80      0.81      0.80       184\n",
      "weighted avg       0.81      0.80      0.81       184\n",
      "\n",
      "_______________________________________________________\n",
      "Результаты модели случайного леса\n",
      "\n",
      "              precision    recall  f1-score   support\n",
      "\n",
      "           0       0.84      0.86      0.85        77\n",
      "           1       0.90      0.88      0.89       107\n",
      "\n",
      "    accuracy                           0.87       184\n",
      "   macro avg       0.87      0.87      0.87       184\n",
      "weighted avg       0.87      0.87      0.87       184\n",
      "\n",
      "_______________________________________________________\n",
      "Результаты модели бэггинга над деревьями\n",
      "\n",
      "              precision    recall  f1-score   support\n",
      "\n",
      "           0       0.90      0.74      0.81        93\n",
      "           1       0.78      0.91      0.84        91\n",
      "\n",
      "    accuracy                           0.83       184\n",
      "   macro avg       0.84      0.83      0.83       184\n",
      "weighted avg       0.84      0.83      0.82       184\n",
      "\n",
      "_______________________________________________________\n",
      "Результаты модели стэккинга (дерево решений, случайный лес, метод опорных векторов)\n",
      "\n",
      "              precision    recall  f1-score   support\n",
      "\n",
      "           0       0.88      0.85      0.87        80\n",
      "           1       0.89      0.91      0.90       104\n",
      "\n",
      "    accuracy                           0.89       184\n",
      "   macro avg       0.89      0.88      0.88       184\n",
      "weighted avg       0.89      0.89      0.89       184\n",
      "\n"
     ]
    }
   ],
   "source": [
    "print('Результаты модели дерева решений\\n')\n",
    "print(clf_report_tree)\n",
    "print('_______________________________________________________')\n",
    "print('Результаты модели случайного леса\\n')\n",
    "print(clf_report_random_forest)\n",
    "print('_______________________________________________________')\n",
    "print('Результаты модели бэггинга над деревьями\\n')\n",
    "print(clf_report_bagging_on_tree)\n",
    "print('_______________________________________________________')\n",
    "print('Результаты модели стэккинга (дерево решений, случайный лес, метод опорных векторов)\\n')\n",
    "print(clf_report_stack_model)"
   ]
  },
  {
   "cell_type": "code",
   "execution_count": null,
   "id": "eaef3da8",
   "metadata": {},
   "outputs": [],
   "source": []
  }
 ],
 "metadata": {
  "kernelspec": {
   "display_name": "Python 3 (ipykernel)",
   "language": "python",
   "name": "python3"
  },
  "language_info": {
   "codemirror_mode": {
    "name": "ipython",
    "version": 3
   },
   "file_extension": ".py",
   "mimetype": "text/x-python",
   "name": "python",
   "nbconvert_exporter": "python",
   "pygments_lexer": "ipython3",
   "version": "3.10.5"
  }
 },
 "nbformat": 4,
 "nbformat_minor": 5
}
