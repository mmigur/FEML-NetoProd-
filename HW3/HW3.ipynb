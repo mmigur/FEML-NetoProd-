{
 "cells": [
  {
   "cell_type": "code",
   "execution_count": 63,
   "id": "bcea7901",
   "metadata": {},
   "outputs": [],
   "source": [
    "import numpy as np\n",
    "import pandas as pd\n",
    "from sklearn.linear_model import LogisticRegression\n",
    "from sklearn.preprocessing import LabelEncoder\n",
    "from sklearn.model_selection import train_test_split\n",
    "from sklearn.metrics import roc_curve"
   ]
  },
  {
   "cell_type": "markdown",
   "id": "64a6aa01",
   "metadata": {},
   "source": [
    "## 1. Загрузка данных"
   ]
  },
  {
   "cell_type": "code",
   "execution_count": 53,
   "id": "5fa6a5d8",
   "metadata": {},
   "outputs": [
    {
     "data": {
      "text/html": [
       "<div>\n",
       "<style scoped>\n",
       "    .dataframe tbody tr th:only-of-type {\n",
       "        vertical-align: middle;\n",
       "    }\n",
       "\n",
       "    .dataframe tbody tr th {\n",
       "        vertical-align: top;\n",
       "    }\n",
       "\n",
       "    .dataframe thead th {\n",
       "        text-align: right;\n",
       "    }\n",
       "</style>\n",
       "<table border=\"1\" class=\"dataframe\">\n",
       "  <thead>\n",
       "    <tr style=\"text-align: right;\">\n",
       "      <th></th>\n",
       "      <th>id</th>\n",
       "      <th>name</th>\n",
       "      <th>nationality</th>\n",
       "      <th>sex</th>\n",
       "      <th>dob</th>\n",
       "      <th>height</th>\n",
       "      <th>weight</th>\n",
       "      <th>sport</th>\n",
       "      <th>gold</th>\n",
       "      <th>silver</th>\n",
       "      <th>bronze</th>\n",
       "    </tr>\n",
       "  </thead>\n",
       "  <tbody>\n",
       "    <tr>\n",
       "      <th>0</th>\n",
       "      <td>736041664</td>\n",
       "      <td>A Jesus Garcia</td>\n",
       "      <td>ESP</td>\n",
       "      <td>male</td>\n",
       "      <td>10/17/69</td>\n",
       "      <td>1.72</td>\n",
       "      <td>64.0</td>\n",
       "      <td>athletics</td>\n",
       "      <td>0</td>\n",
       "      <td>0</td>\n",
       "      <td>0</td>\n",
       "    </tr>\n",
       "    <tr>\n",
       "      <th>1</th>\n",
       "      <td>532037425</td>\n",
       "      <td>A Lam Shin</td>\n",
       "      <td>KOR</td>\n",
       "      <td>female</td>\n",
       "      <td>9/23/86</td>\n",
       "      <td>1.68</td>\n",
       "      <td>56.0</td>\n",
       "      <td>fencing</td>\n",
       "      <td>0</td>\n",
       "      <td>0</td>\n",
       "      <td>0</td>\n",
       "    </tr>\n",
       "    <tr>\n",
       "      <th>2</th>\n",
       "      <td>435962603</td>\n",
       "      <td>Aaron Brown</td>\n",
       "      <td>CAN</td>\n",
       "      <td>male</td>\n",
       "      <td>5/27/92</td>\n",
       "      <td>1.98</td>\n",
       "      <td>79.0</td>\n",
       "      <td>athletics</td>\n",
       "      <td>0</td>\n",
       "      <td>0</td>\n",
       "      <td>1</td>\n",
       "    </tr>\n",
       "    <tr>\n",
       "      <th>3</th>\n",
       "      <td>521041435</td>\n",
       "      <td>Aaron Cook</td>\n",
       "      <td>MDA</td>\n",
       "      <td>male</td>\n",
       "      <td>1/2/91</td>\n",
       "      <td>1.83</td>\n",
       "      <td>80.0</td>\n",
       "      <td>taekwondo</td>\n",
       "      <td>0</td>\n",
       "      <td>0</td>\n",
       "      <td>0</td>\n",
       "    </tr>\n",
       "    <tr>\n",
       "      <th>4</th>\n",
       "      <td>33922579</td>\n",
       "      <td>Aaron Gate</td>\n",
       "      <td>NZL</td>\n",
       "      <td>male</td>\n",
       "      <td>11/26/90</td>\n",
       "      <td>1.81</td>\n",
       "      <td>71.0</td>\n",
       "      <td>cycling</td>\n",
       "      <td>0</td>\n",
       "      <td>0</td>\n",
       "      <td>0</td>\n",
       "    </tr>\n",
       "  </tbody>\n",
       "</table>\n",
       "</div>"
      ],
      "text/plain": [
       "          id            name nationality     sex       dob  height  weight  \\\n",
       "0  736041664  A Jesus Garcia         ESP    male  10/17/69    1.72    64.0   \n",
       "1  532037425      A Lam Shin         KOR  female   9/23/86    1.68    56.0   \n",
       "2  435962603     Aaron Brown         CAN    male   5/27/92    1.98    79.0   \n",
       "3  521041435      Aaron Cook         MDA    male    1/2/91    1.83    80.0   \n",
       "4   33922579      Aaron Gate         NZL    male  11/26/90    1.81    71.0   \n",
       "\n",
       "       sport  gold  silver  bronze  \n",
       "0  athletics     0       0       0  \n",
       "1    fencing     0       0       0  \n",
       "2  athletics     0       0       1  \n",
       "3  taekwondo     0       0       0  \n",
       "4    cycling     0       0       0  "
      ]
     },
     "execution_count": 53,
     "metadata": {},
     "output_type": "execute_result"
    }
   ],
   "source": [
    "athletes_df = pd.read_csv('./Data/athletes.csv')\n",
    "athletes_df.head()"
   ]
  },
  {
   "cell_type": "code",
   "execution_count": 54,
   "id": "752af31e",
   "metadata": {},
   "outputs": [
    {
     "name": "stdout",
     "output_type": "stream",
     "text": [
      "<class 'pandas.core.frame.DataFrame'>\n",
      "RangeIndex: 11538 entries, 0 to 11537\n",
      "Data columns (total 11 columns):\n",
      " #   Column       Non-Null Count  Dtype  \n",
      "---  ------       --------------  -----  \n",
      " 0   id           11538 non-null  int64  \n",
      " 1   name         11538 non-null  object \n",
      " 2   nationality  11538 non-null  object \n",
      " 3   sex          11538 non-null  object \n",
      " 4   dob          11537 non-null  object \n",
      " 5   height       11208 non-null  float64\n",
      " 6   weight       10879 non-null  float64\n",
      " 7   sport        11538 non-null  object \n",
      " 8   gold         11538 non-null  int64  \n",
      " 9   silver       11538 non-null  int64  \n",
      " 10  bronze       11538 non-null  int64  \n",
      "dtypes: float64(2), int64(4), object(5)\n",
      "memory usage: 991.7+ KB\n"
     ]
    }
   ],
   "source": [
    "athletes_df.info()"
   ]
  },
  {
   "cell_type": "markdown",
   "id": "6fbd333e",
   "metadata": {},
   "source": [
    "> Мы видим пропуски в данных, у нас есть 1 пропуск по фиче dob, его можно просто удалить, height и weight можно заполнить средним значением"
   ]
  },
  {
   "cell_type": "markdown",
   "id": "a9768246",
   "metadata": {},
   "source": [
    "## 2. Обработка пропусков"
   ]
  },
  {
   "cell_type": "markdown",
   "id": "67112776",
   "metadata": {},
   "source": [
    "### 2.1 Заполнение средним значением"
   ]
  },
  {
   "cell_type": "code",
   "execution_count": 55,
   "id": "589645c6",
   "metadata": {},
   "outputs": [],
   "source": [
    "athletes_df['height'] = athletes_df['height'].fillna(athletes_df['height'].mean())\n",
    "athletes_df['weight'] = athletes_df['weight'].fillna(athletes_df['weight'].mean())"
   ]
  },
  {
   "cell_type": "markdown",
   "id": "bd4da6d3",
   "metadata": {},
   "source": [
    "### 2.2 Удаление пропусков"
   ]
  },
  {
   "cell_type": "code",
   "execution_count": 56,
   "id": "39ddb3c1",
   "metadata": {},
   "outputs": [],
   "source": [
    "athletes_df.dropna(inplace=True)"
   ]
  },
  {
   "cell_type": "markdown",
   "id": "bd67840c",
   "metadata": {},
   "source": [
    "> Получился набор данных без пропусков:"
   ]
  },
  {
   "cell_type": "code",
   "execution_count": 57,
   "id": "79ea1ac2",
   "metadata": {},
   "outputs": [
    {
     "name": "stdout",
     "output_type": "stream",
     "text": [
      "<class 'pandas.core.frame.DataFrame'>\n",
      "Int64Index: 11537 entries, 0 to 11537\n",
      "Data columns (total 11 columns):\n",
      " #   Column       Non-Null Count  Dtype  \n",
      "---  ------       --------------  -----  \n",
      " 0   id           11537 non-null  int64  \n",
      " 1   name         11537 non-null  object \n",
      " 2   nationality  11537 non-null  object \n",
      " 3   sex          11537 non-null  object \n",
      " 4   dob          11537 non-null  object \n",
      " 5   height       11537 non-null  float64\n",
      " 6   weight       11537 non-null  float64\n",
      " 7   sport        11537 non-null  object \n",
      " 8   gold         11537 non-null  int64  \n",
      " 9   silver       11537 non-null  int64  \n",
      " 10  bronze       11537 non-null  int64  \n",
      "dtypes: float64(2), int64(4), object(5)\n",
      "memory usage: 1.1+ MB\n"
     ]
    }
   ],
   "source": [
    "athletes_df.info()"
   ]
  },
  {
   "cell_type": "markdown",
   "id": "72d460e0",
   "metadata": {},
   "source": [
    "## 3. Кодировка категориальных переменных"
   ]
  },
  {
   "cell_type": "markdown",
   "id": "c42c33ee",
   "metadata": {},
   "source": [
    "В моей случае я буду предсказывать пол спортсмена(возьмем его как целевую переменную)"
   ]
  },
  {
   "cell_type": "code",
   "execution_count": 58,
   "id": "53dee63a",
   "metadata": {},
   "outputs": [],
   "source": [
    "label_encoder = LabelEncoder()"
   ]
  },
  {
   "cell_type": "code",
   "execution_count": 59,
   "id": "8e998c7a",
   "metadata": {},
   "outputs": [],
   "source": [
    "athletes_df['sex_encoded'] = label_encoder.fit(athletes_df['sex']).transform(athletes_df['sex'])\n",
    "athletes_df['sport_encoded'] = label_encoder.fit((athletes_df['sport'])).transform(athletes_df['sport'])\n",
    "athletes_df['nationality_encoded'] = label_encoder.fit(athletes_df['nationality']).transform(athletes_df['nationality'])"
   ]
  },
  {
   "cell_type": "markdown",
   "id": "a45210e6",
   "metadata": {},
   "source": [
    "## 4. Разделение данных на train и test"
   ]
  },
  {
   "cell_type": "code",
   "execution_count": 60,
   "id": "b52ac5e3",
   "metadata": {},
   "outputs": [],
   "source": [
    "X = athletes_df.drop([\n",
    "    'sex', \n",
    "    'sex_encoded', \n",
    "    'name', \n",
    "    'id',\n",
    "    'sport',\n",
    "    'nationality',\n",
    "    'dob'\n",
    "], axis=1)\n",
    "\n",
    "y = athletes_df['sex_encoded']"
   ]
  },
  {
   "cell_type": "code",
   "execution_count": 61,
   "id": "3da43a74",
   "metadata": {},
   "outputs": [],
   "source": [
    "X_train, X_test, y_train, y_test = train_test_split(X, y, test_size=0.33, random_state=42)"
   ]
  },
  {
   "cell_type": "markdown",
   "id": "3715e14d",
   "metadata": {},
   "source": [
    "## 5. Обучение модели логистической регрессии "
   ]
  },
  {
   "cell_type": "code",
   "execution_count": 62,
   "id": "5069862c",
   "metadata": {},
   "outputs": [
    {
     "data": {
      "text/html": [
       "<style>#sk-container-id-3 {color: black;background-color: white;}#sk-container-id-3 pre{padding: 0;}#sk-container-id-3 div.sk-toggleable {background-color: white;}#sk-container-id-3 label.sk-toggleable__label {cursor: pointer;display: block;width: 100%;margin-bottom: 0;padding: 0.3em;box-sizing: border-box;text-align: center;}#sk-container-id-3 label.sk-toggleable__label-arrow:before {content: \"▸\";float: left;margin-right: 0.25em;color: #696969;}#sk-container-id-3 label.sk-toggleable__label-arrow:hover:before {color: black;}#sk-container-id-3 div.sk-estimator:hover label.sk-toggleable__label-arrow:before {color: black;}#sk-container-id-3 div.sk-toggleable__content {max-height: 0;max-width: 0;overflow: hidden;text-align: left;background-color: #f0f8ff;}#sk-container-id-3 div.sk-toggleable__content pre {margin: 0.2em;color: black;border-radius: 0.25em;background-color: #f0f8ff;}#sk-container-id-3 input.sk-toggleable__control:checked~div.sk-toggleable__content {max-height: 200px;max-width: 100%;overflow: auto;}#sk-container-id-3 input.sk-toggleable__control:checked~label.sk-toggleable__label-arrow:before {content: \"▾\";}#sk-container-id-3 div.sk-estimator input.sk-toggleable__control:checked~label.sk-toggleable__label {background-color: #d4ebff;}#sk-container-id-3 div.sk-label input.sk-toggleable__control:checked~label.sk-toggleable__label {background-color: #d4ebff;}#sk-container-id-3 input.sk-hidden--visually {border: 0;clip: rect(1px 1px 1px 1px);clip: rect(1px, 1px, 1px, 1px);height: 1px;margin: -1px;overflow: hidden;padding: 0;position: absolute;width: 1px;}#sk-container-id-3 div.sk-estimator {font-family: monospace;background-color: #f0f8ff;border: 1px dotted black;border-radius: 0.25em;box-sizing: border-box;margin-bottom: 0.5em;}#sk-container-id-3 div.sk-estimator:hover {background-color: #d4ebff;}#sk-container-id-3 div.sk-parallel-item::after {content: \"\";width: 100%;border-bottom: 1px solid gray;flex-grow: 1;}#sk-container-id-3 div.sk-label:hover label.sk-toggleable__label {background-color: #d4ebff;}#sk-container-id-3 div.sk-serial::before {content: \"\";position: absolute;border-left: 1px solid gray;box-sizing: border-box;top: 0;bottom: 0;left: 50%;z-index: 0;}#sk-container-id-3 div.sk-serial {display: flex;flex-direction: column;align-items: center;background-color: white;padding-right: 0.2em;padding-left: 0.2em;position: relative;}#sk-container-id-3 div.sk-item {position: relative;z-index: 1;}#sk-container-id-3 div.sk-parallel {display: flex;align-items: stretch;justify-content: center;background-color: white;position: relative;}#sk-container-id-3 div.sk-item::before, #sk-container-id-3 div.sk-parallel-item::before {content: \"\";position: absolute;border-left: 1px solid gray;box-sizing: border-box;top: 0;bottom: 0;left: 50%;z-index: -1;}#sk-container-id-3 div.sk-parallel-item {display: flex;flex-direction: column;z-index: 1;position: relative;background-color: white;}#sk-container-id-3 div.sk-parallel-item:first-child::after {align-self: flex-end;width: 50%;}#sk-container-id-3 div.sk-parallel-item:last-child::after {align-self: flex-start;width: 50%;}#sk-container-id-3 div.sk-parallel-item:only-child::after {width: 0;}#sk-container-id-3 div.sk-dashed-wrapped {border: 1px dashed gray;margin: 0 0.4em 0.5em 0.4em;box-sizing: border-box;padding-bottom: 0.4em;background-color: white;}#sk-container-id-3 div.sk-label label {font-family: monospace;font-weight: bold;display: inline-block;line-height: 1.2em;}#sk-container-id-3 div.sk-label-container {text-align: center;}#sk-container-id-3 div.sk-container {/* jupyter's `normalize.less` sets `[hidden] { display: none; }` but bootstrap.min.css set `[hidden] { display: none !important; }` so we also need the `!important` here to be able to override the default hidden behavior on the sphinx rendered scikit-learn.org. See: https://github.com/scikit-learn/scikit-learn/issues/21755 */display: inline-block !important;position: relative;}#sk-container-id-3 div.sk-text-repr-fallback {display: none;}</style><div id=\"sk-container-id-3\" class=\"sk-top-container\"><div class=\"sk-text-repr-fallback\"><pre>LogisticRegression(max_iter=1000)</pre><b>In a Jupyter environment, please rerun this cell to show the HTML representation or trust the notebook. <br />On GitHub, the HTML representation is unable to render, please try loading this page with nbviewer.org.</b></div><div class=\"sk-container\" hidden><div class=\"sk-item\"><div class=\"sk-estimator sk-toggleable\"><input class=\"sk-toggleable__control sk-hidden--visually\" id=\"sk-estimator-id-3\" type=\"checkbox\" checked><label for=\"sk-estimator-id-3\" class=\"sk-toggleable__label sk-toggleable__label-arrow\">LogisticRegression</label><div class=\"sk-toggleable__content\"><pre>LogisticRegression(max_iter=1000)</pre></div></div></div></div></div>"
      ],
      "text/plain": [
       "LogisticRegression(max_iter=1000)"
      ]
     },
     "execution_count": 62,
     "metadata": {},
     "output_type": "execute_result"
    }
   ],
   "source": [
    "log_reg_model = LogisticRegression(max_iter=1000)\n",
    "log_reg_model.fit(X_train, y_train)"
   ]
  },
  {
   "cell_type": "markdown",
   "id": "5cf19735",
   "metadata": {},
   "source": [
    "## 6. Построение ROC-AUC кривой"
   ]
  },
  {
   "cell_type": "code",
   "execution_count": null,
   "id": "a43046e5",
   "metadata": {},
   "outputs": [],
   "source": []
  }
 ],
 "metadata": {
  "kernelspec": {
   "display_name": "Python 3 (ipykernel)",
   "language": "python",
   "name": "python3"
  },
  "language_info": {
   "codemirror_mode": {
    "name": "ipython",
    "version": 3
   },
   "file_extension": ".py",
   "mimetype": "text/x-python",
   "name": "python",
   "nbconvert_exporter": "python",
   "pygments_lexer": "ipython3",
   "version": "3.10.5"
  }
 },
 "nbformat": 4,
 "nbformat_minor": 5
}
